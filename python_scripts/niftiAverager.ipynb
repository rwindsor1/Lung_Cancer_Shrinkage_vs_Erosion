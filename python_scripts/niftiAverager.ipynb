{
 "cells": [
  {
   "cell_type": "code",
   "execution_count": 29,
   "metadata": {},
   "outputs": [],
   "source": [
    "import nibabel as nib\n",
    "import numpy as np\n",
    "import os\n",
    "import matplotlib.pyplot as plt\n",
    "from scipy.stats import linregress\n",
    "datafile = \"D:/niftyfolder\"\n",
    "patients = os.listdir(datafile)\n"
   ]
  },
  {
   "cell_type": "code",
   "execution_count": 30,
   "metadata": {},
   "outputs": [
    {
     "name": "stdout",
     "output_type": "stream",
     "text": [
      "NSCLC1_\n",
      "663.743807682  140.952192029\n",
      "589.668989166  201.842899195\n",
      "658.248531719  203.294025117\n",
      "695.028781965  148.134808562\n",
      "706.208222376  148.596175541\n",
      "696.127056506  155.75789955\n"
     ]
    },
    {
     "data": {
      "image/png": "[encoded data removed]",
      "text/plain": [
       "<matplotlib.figure.Figure at 0x18b102cd908>"
      ]
     },
     "metadata": {},
     "output_type": "display_data"
    },
    {
     "name": "stdout",
     "output_type": "stream",
     "text": [
      "LinregressResult(slope=-0.48763549908037096, intercept=492.25351609791028, rvalue=-0.73810145395062698, pvalue=0.093904350897054373, stderr=0.22287089786604219)\n"
     ]
    }
   ],
   "source": [
    "patient = patients[3]\n",
    "print(patient)\n",
    "scans = os.listdir(os.path.join(datafile,patient))\n",
    "meanArr = []\n",
    "stdArr = []\n",
    "for scan in scans:\n",
    "    scanData = nib.load(os.path.join(datafile,patient,scan)).get_data()\n",
    "    mean = np.mean(scanData[np.where(scanData != 0)])\n",
    "    std = np.std(scanData[np.where(scanData != 0)])\n",
    "    print(str(mean) + \"  \" + str(std))\n",
    "    meanArr.append(mean)\n",
    "    stdArr.append(std)\n",
    "\n",
    "\n",
    "plt.errorbar(np.linspace(0,len(scans),len(scans)),meanArr, yerr = stdArr)\n",
    "plt.show()\n",
    "print(linregress(meanArr,stdArr))"
   ]
  }
 ],
 "metadata": {
  "kernelspec": {
   "display_name": "Python 3",
   "language": "python",
   "name": "python3"
  },
  "language_info": {
   "codemirror_mode": {
    "name": "ipython",
    "version": 3
   },
   "file_extension": ".py",
   "mimetype": "text/x-python",
   "name": "python",
   "nbconvert_exporter": "python",
   "pygments_lexer": "ipython3",
   "version": "3.5.3"
  }
 },
 "nbformat": 4,
 "nbformat_minor": 2
}
