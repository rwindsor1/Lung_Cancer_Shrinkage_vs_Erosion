{
 "cells": [
  {
   "cell_type": "code",
   "execution_count": null,
   "metadata": {},
   "outputs": [],
   "source": [
    "import nibabel as nib\n",
    "import matplotlib.pyplot as plt\n",
    "%matplotlib inline\n",
    "import os\n",
    "\n",
    "def show_slice(slice_obj):\n",
    "    # Function to display row of image slices\n",
    "    fig, axes = plt.subplots(1)\n",
    "    axes.imshow(slice_obj, cmap=\"gray\", origin=\"lower\")\n",
    "\n",
    "class scan:\n",
    "    def __init__(self, memmap):\n",
    "        self.image_map = memmap\n",
    "        \n",
    "    def __getitem__(self, slice_no):\n",
    "        return np.array(self.image_map[:,:,slice_no])\n",
    "    \n",
    "    def show(self,slice_no):\n",
    "        show_slice(self[slice_no])\n",
    "        \n",
    "path_to_tumour_niftis = \"D:/fullTumourNiftys/NSCLC1_\"\n",
    "full_tumour_niftis = os.listdir(path_to_tumour_niftis)\n",
    "print(full_tumour_niftis)\n",
    "nib_img = nib.load(os.path.join(path_to_tumour_niftis,full_tumour_niftis[1]))\n",
    "img_scan = scan(nib_img.get_data())\n",
    "img_scan.show(70)\n",
    "plt.show()\n",
    "\n"
   ]
  },
  {
   "cell_type": "code",
   "execution_count": null,
   "metadata": {},
   "outputs": [],
   "source": [
    "array = np.array(img_scan[70])\n",
    "def split_into_boxes(arr, box_size):\n",
    "    if arr.ndim == 2:\n",
    "        no_of_boxes = arr.shape[0]*arr.shape[1]/np.sqrt(box_size)\n",
    "        \"\"\"if(np.sqrt(no_of_boxes) != int(np.sqrt(no_of_boxes))):\n",
    "            print(\"The box size needs to be a square number for 2-D\")\n",
    "            return None\"\"\"\n",
    "        split_arrs = []\n",
    "        x_split_arrs = np.array_split(array, np.sqrt(no_of_boxes), 0)\n",
    "        for x_split_arr in x_split_arrs:\n",
    "            xy_split_arrs = np.array_split(x_split_arr, np.sqrt(no_of_boxes), 1)\n",
    "            split_arrs = split_arrs + xy_split_arrs\n",
    "        return split_arrs, len(split_arrs)\n",
    "    if arr.ndim == 3:\n",
    "        if(np.cbrt(no_of_boxes) != int(np.cbrt(no_of_boxes))):\n",
    "            print(\"The box size needs to be a cube number for 3-D\")\n",
    "            return None\n",
    "        split_arrs = []\n",
    "        x_split_arrs = np.array_split(array, np.cbrt(no_of_boxes), 0)\n",
    "        for x_split_arr in x_split_arrs:\n",
    "            xy_split_arrs = np.array_split(x_split_arr, np.cbrt(no_of_boxes), 1)\n",
    "            for xy_split_arr in xy_split_arrs:\n",
    "                xyz_split_arrs = np.array_split(xy_split_arr, np.cbrt(no_of_boxes), 2)\n",
    "            split_arrs = split_arrs + xyz_split_arrs\n",
    "        return split_arrs,len(split_arrs)\n",
    "    \n",
    "\n",
    "arrays, no_of_arrays = split_into_boxes(array, 16)\n",
    "\n",
    "for arr in arrays: print(arr.mean())"
   ]
  },
  {
   "cell_type": "code",
   "execution_count": null,
   "metadata": {},
   "outputs": [],
   "source": [
    "def box_counting(img, box_sizes = [1,4,9,16,25,36,49,64,81,100,121,144,169,196]):\n",
    "    count_array = []\n",
    "    for box_size in box_sizes:\n",
    "        arrays,no_of_arrays = split_into_boxes(img,box_size)\n",
    "        counts = 0\n",
    "        for arr in arrays: \n",
    "            if(arr.max()>1): \n",
    "                counts += 1\n",
    "        count_array.append([box_size,counts,no_of_arrays])\n",
    "    return count_array\n",
    "\n",
    "values = box_counting(array)\n",
    "for point in values: plt.scatter(log(point[0]),log(point[1]))\n",
    "plt.show()"
   ]
  },
  {
   "cell_type": "code",
   "execution_count": 54,
   "metadata": {
    "scrolled": true
   },
   "outputs": [
    {
     "data": {
      "image/png": "[encoded data removed]",
      "text/plain": [
       "<matplotlib.figure.Figure at 0x22219566ac8>"
      ]
     },
     "metadata": {},
     "output_type": "display_data"
    },
    {
     "data": {
      "image/png": "[encoded data removed]",
      "text/plain": [
       "<matplotlib.figure.Figure at 0x22219896828>"
      ]
     },
     "metadata": {},
     "output_type": "display_data"
    },
    {
     "data": {
      "image/png": "[encoded data removed]",
      "text/plain": [
       "<matplotlib.figure.Figure at 0x222194a33c8>"
      ]
     },
     "metadata": {},
     "output_type": "display_data"
    },
    {
     "data": {
      "image/png": "[encoded data removed]",
      "text/plain": [
       "<matplotlib.figure.Figure at 0x222196f6a90>"
      ]
     },
     "metadata": {},
     "output_type": "display_data"
    }
   ],
   "source": [
    "import os\n",
    "import numpy as np\n",
    "import nibabel as nib\n",
    "import matplotlib.pyplot as plt\n",
    "from PIL import Image\n",
    "path_to_niftis = \"D:/fullTumourNiftys\"\n",
    "for patient_name in os.listdir(path_to_niftis):\n",
    "    for scan_name in os.listdir(os.path.join(path_to_niftis,patient_name)):\n",
    "        scan = nib.load(os.path.join(path_to_niftis,patient_name,scan_name))\n",
    "        scan_data = scan.get_data()\n",
    "        plt.imshow(scan_data[:,:,74])\n",
    "        plt.show()\n",
    "        plt.savefig(\"D:/myfile.png\")\n",
    "        #im.save(\"D:/fullTumourNiftys/myfile.png\")\n",
    "    break"
   ]
  }
 ],
 "metadata": {
  "kernelspec": {
   "display_name": "Python 3",
   "language": "python",
   "name": "python3"
  },
  "language_info": {
   "codemirror_mode": {
    "name": "ipython",
    "version": 3
   },
   "file_extension": ".py",
   "mimetype": "text/x-python",
   "name": "python",
   "nbconvert_exporter": "python",
   "pygments_lexer": "ipython3",
   "version": "3.5.3"
  }
 },
 "nbformat": 4,
 "nbformat_minor": 2
}
