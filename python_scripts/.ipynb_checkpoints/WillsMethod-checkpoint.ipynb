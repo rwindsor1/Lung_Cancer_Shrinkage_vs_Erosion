{
 "cells": [
  {
   "cell_type": "markdown",
   "metadata": {},
   "source": [
    "# Will's Method\n",
    "\n",
    "Looking at how the HU in the ring we created changes relative to the whole tumour volume"
   ]
  },
  {
   "cell_type": "code",
   "execution_count": 1,
   "metadata": {
    "collapsed": true
   },
   "outputs": [],
   "source": [
    "# Import packages and functions\n",
    "\n",
    "import os\n",
    "import seaborn as sns\n",
    "import matplotlib as mpl\n",
    "import matplotlib.pyplot as plt\n",
    "import numpy as np\n",
    "import pandas as pd\n",
    "\n",
    "\n",
    "def inforeader(folderpath):\n",
    "    peaksfolder = folderpath\n",
    "    peaks_file_names=[]\n",
    "    for folder, subs, files in os.walk(peaksfolder):\n",
    "        for filename in files:\n",
    "            peaks_file_names.append(os.path.abspath(os.path.join(folder, filename)))\n",
    "\n",
    "    myorder = [3,4,5,6,7,0,1,2]\n",
    "    peaks_file_names = [ peaks_file_names[i] for i in myorder]\n",
    "    #print(peaks_file_names)\n",
    "    j=0\n",
    "    peaksinfo = []\n",
    "    while j<len(peaks_file_names):\n",
    "        with open(peaks_file_names[j],\"r\") as file:\n",
    "            datamatrix = []\n",
    "            for line in file:\n",
    "                templine = []\n",
    "                line.replace(\"\\n\",\"\")\n",
    "                bit = line.split(\",\")\n",
    "                for element in bit:\n",
    "                    templine.append(element)\n",
    "                templine = templine[:-1]\n",
    "                for element in templine:\n",
    "                    element = float(element)\n",
    "                datamatrix.append(templine)\n",
    "\n",
    "\n",
    "            peaksinfo.append(datamatrix)\n",
    "        j+=1\n",
    "\n",
    "    return peaksinfo"
   ]
  },
  {
   "cell_type": "code",
   "execution_count": 3,
   "metadata": {},
   "outputs": [],
   "source": [
    "# Load up all of our time data for each patient\n",
    "\n",
    "timefile = \"D:/allCSV/scantimes.csv\"\n",
    "\n",
    "with open(timefile,\"r\") as file:\n",
    "    datamatrix = []\n",
    "    for line in file:\n",
    "        templine = []\n",
    "        #line.replace(\"\\n\",\"\")\n",
    "        bit = line.split(\",\")\n",
    "        datamatrix.append([str(bit[0]),str(bit[1]),\n",
    "                         str(bit[2]),str(bit[3]),str(bit[4]),\n",
    "                           str(bit[5]),str(bit[6]),\n",
    "                           str(bit[7].replace('\\n',''))])\n",
    "        \n",
    "#print(datamatrix)"
   ]
  },
  {
   "cell_type": "code",
   "execution_count": 4,
   "metadata": {},
   "outputs": [],
   "source": [
    "# Create dataframe for each patient with which to store all of our data\n",
    "\n",
    "df = {'N01':[[],[]],\n",
    "     'N02':[[],[]],\n",
    "     'N05':[[],[]],\n",
    "     'N06':[[],[]],\n",
    "     'N07':[[],[]],\n",
    "     'N10':[[],[]],\n",
    "     'N11':[[],[]],\n",
    "     'N16':[[],[]]\n",
    "     }\n",
    "\n",
    "\n",
    "# Append all time information to first list in each patient entry\n",
    "for element in datamatrix:\n",
    "    if datamatrix.index(element) in range(0,8):\n",
    "        df[element[0]][0]=element[1:]\n",
    "    "
   ]
  },
  {
   "cell_type": "code",
   "execution_count": 5,
   "metadata": {
    "collapsed": true
   },
   "outputs": [],
   "source": [
    "# Load in all information we had before from within the annular masks\n",
    "# and whole masks using defined function \"inforeader\" to read in \n",
    "# the csv files of the Gaussian info we created.\n",
    "\n",
    "ringfolder = \"D:/allCSV/ring\"\n",
    "ringmatrix = inforeader(ringfolder)\n",
    "\n",
    "wholefolder = \"D:/allCSV/whole\"\n",
    "wholematrix = inforeader(wholefolder)"
   ]
  },
  {
   "cell_type": "code",
   "execution_count": 6,
   "metadata": {},
   "outputs": [
    {
     "name": "stdout",
     "output_type": "stream",
     "text": [
      "[[77.1675880082, 118.371272856, 153.051330796, 246.061726919, 150.675844543, 191.974033529], [138.058438044, 69.707498117, 58.5872558153, 67.840982039, 141.917196999, 62.1694680337], [116.325735609, 104.592577479, 82.7955057199, 82.8079471379, 92.3146386657, 95.3841753287], [122.453929878, 114.647812096, 122.151695194, 133.263452279, 107.952793359], [1066.35409043, 988.848022096, 774.143921239, 566.477591173, 10.0, 682.251017598, 550.994506537], [74.1444884992, 74.1444884992, 74.1444884992, 77.7957517184, 71.4119635848, 75.9564478064], [311.670839006, 265.634052687, 267.95929753, 215.501370207], [113.019441206, 40.0007881028, 50.1530676853, 38.5386535751, 56.0688831978]]\n",
      "[[395.775111534, 346.092804915, 385.648706896, 561.906806578, 472.037146408, 577.408888285], [150.30386834, 94.0384052525, 49.8795224901, 53.9455667276, 141.332673196, 67.5230426396], [172.005441077, 220.690637491, 159.600867154, 165.176407356, 152.193100194, 163.315006297], [210.061318625, 205.943475562, 300.942955538, 242.75240689, 246.646446133], [1539.52638721, 1608.55928109, 2053.90407699, 3000.0, 10.0, 313.177324169, 1259.69729567], [77.0682929363, 72.4079022892, 73.8562182827, 78.0274111832, 77.0682929363, 72.4079022892, 73.8562182827, 78.0274111832], [1414.92578522, 1535.29445908, 1438.78520034, 1375.07011613, 390.670078589, 313.261448732, 423.606007132, 314.246806644], [53.1721197667, 37.289752868, 65.880956738, 70.3879293673, 66.2088812081]]\n"
     ]
    }
   ],
   "source": [
    "ringtumourpeaks = [[float(entry[6]) for entry in patient] for patient in ringmatrix] \n",
    "wholetumourpeaks = [[float(entry[6]) for entry in patient] for patient in wholematrix]\n",
    "print(ringtumourpeaks)\n",
    "print(wholetumourpeaks)"
   ]
  },
  {
   "cell_type": "code",
   "execution_count": 29,
   "metadata": {},
   "outputs": [
    {
     "name": "stdout",
     "output_type": "stream",
     "text": [
      "[[1.0, 1.7541523154114202, 2.0354422487868105, 2.2459150677228528, 1.637121877346597, 1.7051892223928193], [1.0, 0.8070146944952195, 1.2787571402762894, 1.3691264748243601, 1.0932000778701438, 1.0023799012995884], [1.0, 0.7007826386085363, 0.7670751156217631, 0.7412938211342236, 0.8968957953385699, 0.8636079168426078], [1.0, 0.9549730011546435, 0.6962876249344975, 0.9417180076557126, 0.7508140349902434], [1.0, 0.8875200565587842, 0.5441607946663513, 0.2726133864916361, 1.4437290586930618, 3.1451370945925055, 0.6314904247251024], [1.0, 1.0643630114912903, 1.0434909169232727, 1.0363478473013064, 0.9631459469245718, 1.0903741487173821], [1.0, 0.785469917357777, 0.8454936684589883, 0.7114799781547515], [1.0, 0.5046727568848063, 0.358152860008451, 0.25759009938425836, 0.3984157285450264]]\n"
     ]
    }
   ],
   "source": [
    "i=0\n",
    "relativepeaks = []\n",
    "while i<len(ringtumourpeaks):\n",
    "    templine = []\n",
    "    j=0\n",
    "    while j<len(ringtumourpeaks[i]):\n",
    "        templine.append((wholetumourpeaks[i][0]*ringtumourpeaks[i][j])/(wholetumourpeaks[i][j]*ringtumourpeaks[i][0]))\n",
    "        j+=1\n",
    "    relativepeaks.append(templine)\n",
    "    i+=1\n",
    "    \n",
    "print(relativepeaks)"
   ]
  },
  {
   "cell_type": "code",
   "execution_count": 33,
   "metadata": {},
   "outputs": [
    {
     "name": "stdout",
     "output_type": "stream",
     "text": [
      "[[['0', '2', '9', '16', '17', '22', ''], [1.0, 1.7541523154114202, 2.0354422487868105, 2.2459150677228528, 1.637121877346597, 1.7051892223928193]], [['0', '3', '6', '10', '17', '23', ''], [1.0, 0.8070146944952195, 1.2787571402762894, 1.3691264748243601, 1.0932000778701438, 1.0023799012995884]], [['0', '7', '14', '21', '32', '38', ''], [1.0, 0.7007826386085363, 0.7670751156217631, 0.7412938211342236, 0.8968957953385699, 0.8636079168426078]], [['0', '5', '13', '19', '26', '', ''], [1.0, 0.9549730011546435, 0.6962876249344975, 0.9417180076557126, 0.7508140349902434]], [['0', '4', '11', '18', '25', '32', '35'], [1.0, 0.8875200565587842, 0.5441607946663513, 0.2726133864916361, 1.4437290586930618, 3.1451370945925055, 0.6314904247251024]], [['0', '7', '11', '18', '', '', ''], [1.0, 1.0643630114912903, 1.0434909169232727, 1.0363478473013064, 0.9631459469245718, 1.0903741487173821]], [['0', '7', '14', '21', '', '', ''], [1.0, 0.785469917357777, 0.8454936684589883, 0.7114799781547515]], [[], [1.0, 0.5046727568848063, 0.358152860008451, 0.25759009938425836, 0.3984157285450264]]]\n"
     ]
    },
    {
     "ename": "NameError",
     "evalue": "name 'alist' is not defined",
     "output_type": "error",
     "traceback": [
      "\u001b[0;31m---------------------------------------------------------------------------\u001b[0m",
      "\u001b[0;31mNameError\u001b[0m                                 Traceback (most recent call last)",
      "\u001b[0;32m<ipython-input-33-ff57c772fc93>\u001b[0m in \u001b[0;36m<module>\u001b[0;34m()\u001b[0m\n\u001b[1;32m     22\u001b[0m             \u001b[0mthe_list\u001b[0m\u001b[1;33m.\u001b[0m\u001b[0mremove\u001b[0m\u001b[1;33m(\u001b[0m\u001b[0mval\u001b[0m\u001b[1;33m)\u001b[0m\u001b[1;33m\u001b[0m\u001b[0m\n\u001b[1;32m     23\u001b[0m \u001b[1;32mfor\u001b[0m \u001b[0mentry\u001b[0m \u001b[1;32min\u001b[0m \u001b[0manarray\u001b[0m\u001b[1;33m:\u001b[0m\u001b[1;33m\u001b[0m\u001b[0m\n\u001b[0;32m---> 24\u001b[0;31m     \u001b[0mentry\u001b[0m\u001b[1;33m[\u001b[0m\u001b[1;36m0\u001b[0m\u001b[1;33m]\u001b[0m\u001b[1;33m=\u001b[0m\u001b[0malist\u001b[0m\u001b[1;33m\u001b[0m\u001b[0m\n\u001b[0m\u001b[1;32m     25\u001b[0m     \u001b[0malist\u001b[0m \u001b[1;33m=\u001b[0m \u001b[0mremove_values_from_list\u001b[0m\u001b[1;33m(\u001b[0m\u001b[0malist\u001b[0m\u001b[1;33m,\u001b[0m\u001b[1;34m''\u001b[0m\u001b[1;33m)\u001b[0m\u001b[1;33m\u001b[0m\u001b[0m\n\u001b[1;32m     26\u001b[0m     \u001b[0mentry\u001b[0m\u001b[1;33m[\u001b[0m\u001b[1;36m0\u001b[0m\u001b[1;33m]\u001b[0m \u001b[1;33m=\u001b[0m \u001b[1;33m[\u001b[0m\u001b[0mint\u001b[0m\u001b[1;33m(\u001b[0m\u001b[0mx\u001b[0m\u001b[1;33m)\u001b[0m \u001b[1;32mfor\u001b[0m \u001b[0mx\u001b[0m \u001b[1;32min\u001b[0m \u001b[0malist\u001b[0m\u001b[1;33m]\u001b[0m\u001b[1;33m\u001b[0m\u001b[0m\n",
      "\u001b[0;31mNameError\u001b[0m: name 'alist' is not defined"
     ]
    }
   ],
   "source": [
    "df['N01'][1] = relativepeaks[0]\n",
    "df['N02'][1] = relativepeaks[1]\n",
    "df['N05'][1] = relativepeaks[2]\n",
    "df['N06'][1] = relativepeaks[3]\n",
    "df['N07'][1] = relativepeaks[4]\n",
    "df['N10'][1] = relativepeaks[5]\n",
    "df['N11'][1] = relativepeaks[6]\n",
    "df['N16'][1] = relativepeaks[7]\n",
    "\n",
    "namearray = ['N01','N02','N05','N06','N07','N10','N11','N16']\n",
    "anarray = []\n",
    "i=0\n",
    "while i<len(namearray):\n",
    "    name = namearray[i]\n",
    "    templine = [df[name][0], df[name][1]]\n",
    "    anarray.append(templine)\n",
    "    i+=1\n",
    "\n",
    "print(anarray)\n",
    "def remove_values_from_list(the_list, val):\n",
    "        while val in the_list:\n",
    "            the_list.remove(val)\n",
    "#for entry in anarray:\n",
    "#    entry[0]=alist\n",
    "#    alist = remove_values_from_list(alist,'')\n",
    "#    entry[0] = [int(x) for x in alist]\n",
    "#    entry[1] = entry[1][:len(entry[0])]\n",
    "\n",
    "print(anarray)"
   ]
  },
  {
   "cell_type": "code",
   "execution_count": 31,
   "metadata": {},
   "outputs": [
    {
     "ename": "ValueError",
     "evalue": "x and y must be the same size",
     "output_type": "error",
     "traceback": [
      "\u001b[0;31m---------------------------------------------------------------------------\u001b[0m",
      "\u001b[0;31mValueError\u001b[0m                                Traceback (most recent call last)",
      "\u001b[0;32m<ipython-input-31-15c46352338e>\u001b[0m in \u001b[0;36m<module>\u001b[0;34m()\u001b[0m\n\u001b[1;32m     11\u001b[0m     \u001b[1;31m#if k==5:\u001b[0m\u001b[1;33m\u001b[0m\u001b[1;33m\u001b[0m\u001b[0m\n\u001b[1;32m     12\u001b[0m     \u001b[1;31m#    anarray[k][1]=anarray[k][1][:-2]\u001b[0m\u001b[1;33m\u001b[0m\u001b[1;33m\u001b[0m\u001b[0m\n\u001b[0;32m---> 13\u001b[0;31m     \u001b[0mplt\u001b[0m\u001b[1;33m.\u001b[0m\u001b[0mscatter\u001b[0m\u001b[1;33m(\u001b[0m\u001b[0mx\u001b[0m\u001b[1;33m=\u001b[0m\u001b[0mnp\u001b[0m\u001b[1;33m.\u001b[0m\u001b[0marray\u001b[0m\u001b[1;33m(\u001b[0m\u001b[0manarray\u001b[0m\u001b[1;33m[\u001b[0m\u001b[0mk\u001b[0m\u001b[1;33m]\u001b[0m\u001b[1;33m[\u001b[0m\u001b[1;36m0\u001b[0m\u001b[1;33m]\u001b[0m\u001b[1;33m)\u001b[0m\u001b[1;33m,\u001b[0m\u001b[0my\u001b[0m\u001b[1;33m=\u001b[0m\u001b[0mnp\u001b[0m\u001b[1;33m.\u001b[0m\u001b[0marray\u001b[0m\u001b[1;33m(\u001b[0m\u001b[0manarray\u001b[0m\u001b[1;33m[\u001b[0m\u001b[0mk\u001b[0m\u001b[1;33m]\u001b[0m\u001b[1;33m[\u001b[0m\u001b[1;36m1\u001b[0m\u001b[1;33m]\u001b[0m\u001b[1;33m)\u001b[0m\u001b[1;33m,\u001b[0m\u001b[0mcolor\u001b[0m \u001b[1;33m=\u001b[0m \u001b[0mcolourlist\u001b[0m\u001b[1;33m[\u001b[0m\u001b[0mk\u001b[0m\u001b[1;33m]\u001b[0m\u001b[1;33m)\u001b[0m\u001b[1;33m\u001b[0m\u001b[0m\n\u001b[0m\u001b[1;32m     14\u001b[0m     \u001b[1;31m#plt.close()\u001b[0m\u001b[1;33m\u001b[0m\u001b[1;33m\u001b[0m\u001b[0m\n\u001b[1;32m     15\u001b[0m     \u001b[0mk\u001b[0m\u001b[1;33m+=\u001b[0m\u001b[1;36m1\u001b[0m\u001b[1;33m\u001b[0m\u001b[0m\n",
      "\u001b[0;32mC:\\Users\\georg\\Anaconda3\\lib\\site-packages\\matplotlib\\pyplot.py\u001b[0m in \u001b[0;36mscatter\u001b[0;34m(x, y, s, c, marker, cmap, norm, vmin, vmax, alpha, linewidths, verts, edgecolors, hold, data, **kwargs)\u001b[0m\n\u001b[1;32m   3433\u001b[0m                          \u001b[0mvmin\u001b[0m\u001b[1;33m=\u001b[0m\u001b[0mvmin\u001b[0m\u001b[1;33m,\u001b[0m \u001b[0mvmax\u001b[0m\u001b[1;33m=\u001b[0m\u001b[0mvmax\u001b[0m\u001b[1;33m,\u001b[0m \u001b[0malpha\u001b[0m\u001b[1;33m=\u001b[0m\u001b[0malpha\u001b[0m\u001b[1;33m,\u001b[0m\u001b[1;33m\u001b[0m\u001b[0m\n\u001b[1;32m   3434\u001b[0m                          \u001b[0mlinewidths\u001b[0m\u001b[1;33m=\u001b[0m\u001b[0mlinewidths\u001b[0m\u001b[1;33m,\u001b[0m \u001b[0mverts\u001b[0m\u001b[1;33m=\u001b[0m\u001b[0mverts\u001b[0m\u001b[1;33m,\u001b[0m\u001b[1;33m\u001b[0m\u001b[0m\n\u001b[0;32m-> 3435\u001b[0;31m                          edgecolors=edgecolors, data=data, **kwargs)\n\u001b[0m\u001b[1;32m   3436\u001b[0m     \u001b[1;32mfinally\u001b[0m\u001b[1;33m:\u001b[0m\u001b[1;33m\u001b[0m\u001b[0m\n\u001b[1;32m   3437\u001b[0m         \u001b[0max\u001b[0m\u001b[1;33m.\u001b[0m\u001b[0m_hold\u001b[0m \u001b[1;33m=\u001b[0m \u001b[0mwashold\u001b[0m\u001b[1;33m\u001b[0m\u001b[0m\n",
      "\u001b[0;32mC:\\Users\\georg\\Anaconda3\\lib\\site-packages\\matplotlib\\__init__.py\u001b[0m in \u001b[0;36minner\u001b[0;34m(ax, *args, **kwargs)\u001b[0m\n\u001b[1;32m   1889\u001b[0m                     warnings.warn(msg % (label_namer, func.__name__),\n\u001b[1;32m   1890\u001b[0m                                   RuntimeWarning, stacklevel=2)\n\u001b[0;32m-> 1891\u001b[0;31m             \u001b[1;32mreturn\u001b[0m \u001b[0mfunc\u001b[0m\u001b[1;33m(\u001b[0m\u001b[0max\u001b[0m\u001b[1;33m,\u001b[0m \u001b[1;33m*\u001b[0m\u001b[0margs\u001b[0m\u001b[1;33m,\u001b[0m \u001b[1;33m**\u001b[0m\u001b[0mkwargs\u001b[0m\u001b[1;33m)\u001b[0m\u001b[1;33m\u001b[0m\u001b[0m\n\u001b[0m\u001b[1;32m   1892\u001b[0m         \u001b[0mpre_doc\u001b[0m \u001b[1;33m=\u001b[0m \u001b[0minner\u001b[0m\u001b[1;33m.\u001b[0m\u001b[0m__doc__\u001b[0m\u001b[1;33m\u001b[0m\u001b[0m\n\u001b[1;32m   1893\u001b[0m         \u001b[1;32mif\u001b[0m \u001b[0mpre_doc\u001b[0m \u001b[1;32mis\u001b[0m \u001b[1;32mNone\u001b[0m\u001b[1;33m:\u001b[0m\u001b[1;33m\u001b[0m\u001b[0m\n",
      "\u001b[0;32mC:\\Users\\georg\\Anaconda3\\lib\\site-packages\\matplotlib\\axes\\_axes.py\u001b[0m in \u001b[0;36mscatter\u001b[0;34m(self, x, y, s, c, marker, cmap, norm, vmin, vmax, alpha, linewidths, verts, edgecolors, **kwargs)\u001b[0m\n\u001b[1;32m   3956\u001b[0m         \u001b[0my\u001b[0m \u001b[1;33m=\u001b[0m \u001b[0mnp\u001b[0m\u001b[1;33m.\u001b[0m\u001b[0mma\u001b[0m\u001b[1;33m.\u001b[0m\u001b[0mravel\u001b[0m\u001b[1;33m(\u001b[0m\u001b[0my\u001b[0m\u001b[1;33m)\u001b[0m\u001b[1;33m\u001b[0m\u001b[0m\n\u001b[1;32m   3957\u001b[0m         \u001b[1;32mif\u001b[0m \u001b[0mx\u001b[0m\u001b[1;33m.\u001b[0m\u001b[0msize\u001b[0m \u001b[1;33m!=\u001b[0m \u001b[0my\u001b[0m\u001b[1;33m.\u001b[0m\u001b[0msize\u001b[0m\u001b[1;33m:\u001b[0m\u001b[1;33m\u001b[0m\u001b[0m\n\u001b[0;32m-> 3958\u001b[0;31m             \u001b[1;32mraise\u001b[0m \u001b[0mValueError\u001b[0m\u001b[1;33m(\u001b[0m\u001b[1;34m\"x and y must be the same size\"\u001b[0m\u001b[1;33m)\u001b[0m\u001b[1;33m\u001b[0m\u001b[0m\n\u001b[0m\u001b[1;32m   3959\u001b[0m \u001b[1;33m\u001b[0m\u001b[0m\n\u001b[1;32m   3960\u001b[0m         \u001b[1;32mif\u001b[0m \u001b[0ms\u001b[0m \u001b[1;32mis\u001b[0m \u001b[1;32mNone\u001b[0m\u001b[1;33m:\u001b[0m\u001b[1;33m\u001b[0m\u001b[0m\n",
      "\u001b[0;31mValueError\u001b[0m: x and y must be the same size"
     ]
    }
   ],
   "source": [
    "import matplotlib.patches as mpatches\n",
    "sns.set()\n",
    "colourlist = sns.color_palette(\"Set2\", 10)\n",
    "ziplist = [list(i) for i in zip(colourlist,namearray)]\n",
    "patcharray = [mpatches.Patch(color=colourlist[i], label=namearray[i]) for i in range(8)]\n",
    "plt.subplots()\n",
    "k=0\n",
    "sns.plt.xlim(0, 40)\n",
    "sns.plt.ylim(-0.5,2.5)\n",
    "while k<(len(anarray)):\n",
    "    #if k==5:\n",
    "    #    anarray[k][1]=anarray[k][1][:-2]\n",
    "    plt.scatter(x=np.array(anarray[k][0]),y=np.array(anarray[k][1]),color = colourlist[k])\n",
    "    #plt.close()\n",
    "    k+=1\n",
    "xline = [list(np.linspace(0,40,40)), [1.0 for i in range(40)]]\n",
    "plt.plot(xline[0], xline[1], linewidth=1, linestyle = '--',c='k')\n",
    "\n",
    "plt.xlabel(\"Days from first scan\")\n",
    "plt.ylabel(\"Norm. relative height of histogram peaks\")\n",
    "#plt.title(\"Plot 1: Showing how relative heights of histogram peaks\\n for tumour vs healthy lung change with time for 8 patients\", \n",
    "#          fontsize=14)\n",
    "plt.legend(handles=patcharray,bbox_to_anchor=(1,0.4),borderaxespad=0.)\n",
    "plt.savefig(\"D:/mphysproject/willsmethodplot.png\",format='png',edgecolour='w')\n",
    "plt.show()\n",
    "plt.close()"
   ]
  },
  {
   "cell_type": "code",
   "execution_count": null,
   "metadata": {
    "collapsed": true
   },
   "outputs": [],
   "source": [
    "shrinkarray = [0,4,7]\n",
    "erodearray = [1,2,3,5,6]\n",
    "sns.set()\n",
    "colourlist = sns.color_palette(\"Set2\", 10)\n",
    "ziplist = [list(i) for i in zip(colourlist,namearray)]\n",
    "patcharray = [mpatches.Patch(color=colourlist[i], label=namearray[i]) for i in range(8)]\n",
    "plt.subplots()\n",
    "sns.plt.xlim(0, 40)\n",
    "sns.plt.ylim(-0.5,2.5)\n",
    "for k in shrinkarray:\n",
    "    plt.scatter(x=np.array(anarray[k][0]),y=np.array(anarray[k][1]),color = colourlist[k])\n",
    "xline = [list(np.linspace(0,40,40)), [1.0 for i in range(40)]]\n",
    "plt.plot(xline[0], xline[1], linewidth=1, linestyle = '--',c='k')\n",
    "plt.title(\"Normalised relative height of histogram peaks vs time for suspected elastic shrinkage\")\n",
    "plt.xlabel(\"Days from first scan\")\n",
    "plt.ylabel(\"Norm. relative height of histogram peaks\")\n",
    "#plt.title(\"Plot 1: Showing how relative heights of histogram peaks\\n for tumour vs healthy lung change with time for 8 patients\", \n",
    "#          fontsize=14)\n",
    "patcharrayshrink = [patcharray[k] for k in shrinkarray]\n",
    "plt.legend(handles=patcharrayshrink,bbox_to_anchor=(1,0.4),borderaxespad=0.)\n",
    "plt.savefig(\"D:/mphysproject/willsmethodplotshrink.png\",format='png',edgecolour='w')\n",
    "plt.show()\n",
    "plt.close()"
   ]
  },
  {
   "cell_type": "code",
   "execution_count": null,
   "metadata": {
    "collapsed": true
   },
   "outputs": [],
   "source": [
    "sns.set()\n",
    "colourlist = sns.color_palette(\"Set2\", 10)\n",
    "ziplist = [list(i) for i in zip(colourlist,namearray)]\n",
    "patcharray = [mpatches.Patch(color=colourlist[i], label=namearray[i]) for i in range(8)]\n",
    "plt.subplots()\n",
    "sns.plt.xlim(0, 40)\n",
    "sns.plt.ylim(-0.5,2.5)\n",
    "for k in erodearray:\n",
    "    plt.scatter(x=np.array(anarray[k][0]),y=np.array(anarray[k][1]),color = colourlist[k])\n",
    "xline = [list(np.linspace(0,40,40)), [1.0 for i in range(40)]]\n",
    "plt.plot(xline[0], xline[1], linewidth=1, linestyle = '--',c='k')\n",
    "plt.title(\"Normalised relative height of histogram peaks vs time for suspected non-elastic shrinkage\")\n",
    "plt.xlabel(\"Days from first scan\")\n",
    "plt.ylabel(\"Norm. relative height of histogram peaks\")\n",
    "#plt.title(\"Plot 1: Showing how relative heights of histogram peaks\\n for tumour vs healthy lung change with time for 8 patients\", \n",
    "#          fontsize=14)\n",
    "patcharrayerode = [patcharray[k] for k in erodearray]\n",
    "plt.legend(handles=patcharrayerode,bbox_to_anchor=(1,0.4),borderaxespad=0.)\n",
    "plt.savefig(\"D:/mphysproject/willsmethodploterode.png\",format='png',edgecolour='w')\n",
    "plt.show()\n",
    "plt.close()"
   ]
  }
 ],
 "metadata": {
  "kernelspec": {
   "display_name": "Python 3",
   "language": "python",
   "name": "python3"
  },
  "language_info": {
   "codemirror_mode": {
    "name": "ipython",
    "version": 3
   },
   "file_extension": ".py",
   "mimetype": "text/x-python",
   "name": "python",
   "nbconvert_exporter": "python",
   "pygments_lexer": "ipython3",
   "version": "3.5.3"
  }
 },
 "nbformat": 4,
 "nbformat_minor": 2
}
