{
 "cells": [
  {
   "cell_type": "code",
   "execution_count": 6,
   "metadata": {},
   "outputs": [],
   "source": [
    "import os\n",
    "import numpy as n\n",
    "import matplotlib.pyplot as plt\n",
    "dict = {\"NSCLC1_\":[1200,900,100],\n",
    "        \"NSCLC2_\":[1200,300,80],\n",
    "        \"NSCLC5_\":[1200,1400,100],\n",
    "        \"NSCLC6_\":[1200,400,100],\n",
    "        \"NSCLC7_\":[1200,2200,100],\n",
    "        \"NSCLC10\":[1200,500,100],\n",
    "        \"NSCLC11\":[1200,1600,200],\n",
    "        \"NSCLC16\":[1200,500, 100]}\n",
    "input_file= \"C:/Users/Rhydian/Documents/Work/MPhysProject/nparrays/inside\"\n",
    "\n",
    "array_names = os.listdir(input_file)\n"
   ]
  },
  {
   "cell_type": "code",
   "execution_count": null,
   "metadata": {
    "collapsed": true
   },
   "outputs": [],
   "source": [
    "array_name = array_names[1]\n",
    "info_array = dict[array_name[0:7]]\n",
    "arr = np.load(os.path.join(input_file,array_name))\n",
    "values, bins, _ = ax.hist(arr[~np.isnan(arr)], bins = info_array[2])\n",
    "print(arr)"
   ]
  }
 ],
 "metadata": {
  "kernelspec": {
   "display_name": "Python 3",
   "language": "python",
   "name": "python3"
  },
  "language_info": {
   "codemirror_mode": {
    "name": "ipython",
    "version": 3
   },
   "file_extension": ".py",
   "mimetype": "text/x-python",
   "name": "python",
   "nbconvert_exporter": "python",
   "pygments_lexer": "ipython3",
   "version": "3.5.3"
  }
 },
 "nbformat": 4,
 "nbformat_minor": 2
}
