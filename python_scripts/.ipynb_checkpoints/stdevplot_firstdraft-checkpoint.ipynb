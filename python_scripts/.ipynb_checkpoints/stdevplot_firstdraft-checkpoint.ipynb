{
 "cells": [
  {
   "cell_type": "markdown",
   "metadata": {},
   "source": [
    "# Visual Representation of Data"
   ]
  },
  {
   "cell_type": "code",
   "execution_count": 3,
   "metadata": {},
   "outputs": [
    {
     "name": "stdout",
     "output_type": "stream",
     "text": [
      "Populating the interactive namespace from numpy and matplotlib\n",
      "['C:\\\\Users\\\\Rhydian\\\\Documents\\\\Work\\\\MPhys Project\\\\project data textfiles\\\\NSCLC10_registered_OARs.txt', 'C:\\\\Users\\\\Rhydian\\\\Documents\\\\Work\\\\MPhys Project\\\\project data textfiles\\\\NSCLC11_registered_OARs.txt', 'C:\\\\Users\\\\Rhydian\\\\Documents\\\\Work\\\\MPhys Project\\\\project data textfiles\\\\NSCLC16_registered_OARs.txt', 'C:\\\\Users\\\\Rhydian\\\\Documents\\\\Work\\\\MPhys Project\\\\project data textfiles\\\\NSCLC1_registered_OARs.txt', 'C:\\\\Users\\\\Rhydian\\\\Documents\\\\Work\\\\MPhys Project\\\\project data textfiles\\\\NSCLC2_registered_OARs.txt', 'C:\\\\Users\\\\Rhydian\\\\Documents\\\\Work\\\\MPhys Project\\\\project data textfiles\\\\NSCLC3_registered_OARs.txt', 'C:\\\\Users\\\\Rhydian\\\\Documents\\\\Work\\\\MPhys Project\\\\project data textfiles\\\\NSCLC5_registered_OARs.txt', 'C:\\\\Users\\\\Rhydian\\\\Documents\\\\Work\\\\MPhys Project\\\\project data textfiles\\\\NSCLC6_registered_OARs.txt', 'C:\\\\Users\\\\Rhydian\\\\Documents\\\\Work\\\\MPhys Project\\\\project data textfiles\\\\NSCLC7_registered_OARs.txt', 'C:\\\\Users\\\\Rhydian\\\\Documents\\\\Work\\\\MPhys Project\\\\project data textfiles\\\\SABR10_registered_OARS.txt', 'C:\\\\Users\\\\Rhydian\\\\Documents\\\\Work\\\\MPhys Project\\\\project data textfiles\\\\SABR1_registered_OARS.txt', 'C:\\\\Users\\\\Rhydian\\\\Documents\\\\Work\\\\MPhys Project\\\\project data textfiles\\\\SABR2_registered_OARS.txt', 'C:\\\\Users\\\\Rhydian\\\\Documents\\\\Work\\\\MPhys Project\\\\project data textfiles\\\\SABR3_registered_OARS.txt', 'C:\\\\Users\\\\Rhydian\\\\Documents\\\\Work\\\\MPhys Project\\\\project data textfiles\\\\SABR4_registered_OARS.txt', 'C:\\\\Users\\\\Rhydian\\\\Documents\\\\Work\\\\MPhys Project\\\\project data textfiles\\\\SABR5_registered_OARS.txt', 'C:\\\\Users\\\\Rhydian\\\\Documents\\\\Work\\\\MPhys Project\\\\project data textfiles\\\\SABR6_registered_OARS.txt', 'C:\\\\Users\\\\Rhydian\\\\Documents\\\\Work\\\\MPhys Project\\\\project data textfiles\\\\SABR7_registered_OARS.txt', 'C:\\\\Users\\\\Rhydian\\\\Documents\\\\Work\\\\MPhys Project\\\\project data textfiles\\\\SABR8_registered_OARS.txt', 'C:\\\\Users\\\\Rhydian\\\\Documents\\\\Work\\\\MPhys Project\\\\project data textfiles\\\\SABR9_registered_OARS.txt']\n",
      "['2', '825.5452576952631', '56.59777396335366', '700.11776194852939', '891.30405159883719', '-449.27271823268558\\n']\n",
      "['3', '838.37952421578382', '63.405819301938855', '702.21525493421052', '913.54810138081393', '-601.25751402841649\\n']\n",
      "['4', '832.83584145046109', '59.13095465800447', '709.80266702586209', '900.17183743990392', '-596.24600840355072\\n']\n",
      "['5', '820.65944364717052', '84.504129537112945', '633.22265625', '899.02528007075477', '-815.20411795601854']\n"
     ]
    }
   ],
   "source": [
    "import matplotlib.pyplot as plt\n",
    "import os\n",
    "import numpy as np\n",
    "%pylab inline \n",
    "\n",
    "data_root = 'C:/Users/Rhydian/Documents/Work/MPhys Project/project data textfiles'\n",
    "\n",
    "file_paths = []\n",
    "\n",
    "for folder, subs, files in os.walk(data_root):\n",
    "    for filename in files:\n",
    "        file_paths.append(os.path.abspath(os.path.join(folder, filename)))\n",
    "        \n",
    "print(file_paths)\n",
    "\n",
    "a=0\n",
    "\n",
    "\n",
    "mightymatrix = []\n",
    "\n",
    "try:\n",
    "    \n",
    "    with open(file_paths[a]) as matrix:\n",
    "        \n",
    "        \n",
    "        \n",
    "\n",
    "        for l in matrix:\n",
    "            #l.replace('\\t', ',')\n",
    "            #l.replace('\\r\\n','')\n",
    "            bit = l.split('\\t')\n",
    "            templine = []\n",
    "            i=0\n",
    "            while i < len(bit):\n",
    "                templine.append(bit[i])\n",
    "                i+=1\n",
    "                \n",
    "            print(templine)\n",
    "            mightymatrix.append(templine)\n",
    "        \n",
    "\n",
    "except Exception as e:\n",
    "\n",
    "    print('Oops... Error encountered')\n",
    "    print(e)"
   ]
  },
  {
   "cell_type": "code",
   "execution_count": 4,
   "metadata": {},
   "outputs": [
    {
     "name": "stdout",
     "output_type": "stream",
     "text": [
      "[['2', '825.5452576952631', '56.59777396335366', '700.11776194852939', '891.30405159883719', '-449.27271823268558\\n'], ['3', '838.37952421578382', '63.405819301938855', '702.21525493421052', '913.54810138081393', '-601.25751402841649\\n'], ['4', '832.83584145046109', '59.13095465800447', '709.80266702586209', '900.17183743990392', '-596.24600840355072\\n'], ['5', '820.65944364717052', '84.504129537112945', '633.22265625', '899.02528007075477', '-815.20411795601854']]\n"
     ]
    }
   ],
   "source": [
    "print(mightymatrix)"
   ]
  },
  {
   "cell_type": "code",
   "execution_count": 5,
   "metadata": {},
   "outputs": [
    {
     "ename": "IndexError",
     "evalue": "list index out of range",
     "output_type": "error",
     "traceback": [
      "\u001b[1;31m---------------------------------------------------------------------------\u001b[0m",
      "\u001b[1;31mIndexError\u001b[0m                                Traceback (most recent call last)",
      "\u001b[1;32m<ipython-input-5-e6a1db0bc7ad>\u001b[0m in \u001b[0;36m<module>\u001b[1;34m()\u001b[0m\n\u001b[0;32m      8\u001b[0m \u001b[0mj\u001b[0m\u001b[1;33m=\u001b[0m\u001b[1;36m0\u001b[0m\u001b[1;33m\u001b[0m\u001b[0m\n\u001b[0;32m      9\u001b[0m \u001b[1;32mwhile\u001b[0m \u001b[0mj\u001b[0m\u001b[1;33m<\u001b[0m\u001b[0mlen\u001b[0m\u001b[1;33m(\u001b[0m\u001b[0mmightymatrix\u001b[0m\u001b[1;33m[\u001b[0m\u001b[1;36m0\u001b[0m\u001b[1;33m]\u001b[0m\u001b[1;33m)\u001b[0m\u001b[1;33m:\u001b[0m\u001b[1;33m\u001b[0m\u001b[0m\n\u001b[1;32m---> 10\u001b[1;33m     \u001b[0mscan\u001b[0m\u001b[1;33m.\u001b[0m\u001b[0mappend\u001b[0m\u001b[1;33m(\u001b[0m\u001b[0mfloat\u001b[0m\u001b[1;33m(\u001b[0m\u001b[0mmightymatrix\u001b[0m\u001b[1;33m[\u001b[0m\u001b[0mj\u001b[0m\u001b[1;33m]\u001b[0m\u001b[1;33m[\u001b[0m\u001b[1;36m0\u001b[0m\u001b[1;33m]\u001b[0m\u001b[1;33m)\u001b[0m\u001b[1;33m)\u001b[0m\u001b[1;33m\u001b[0m\u001b[0m\n\u001b[0m\u001b[0;32m     11\u001b[0m     \u001b[0mmeans\u001b[0m\u001b[1;33m.\u001b[0m\u001b[0mappend\u001b[0m\u001b[1;33m(\u001b[0m\u001b[0mfloat\u001b[0m\u001b[1;33m(\u001b[0m\u001b[0mmightymatrix\u001b[0m\u001b[1;33m[\u001b[0m\u001b[0mj\u001b[0m\u001b[1;33m]\u001b[0m\u001b[1;33m[\u001b[0m\u001b[1;36m1\u001b[0m\u001b[1;33m]\u001b[0m\u001b[1;33m)\u001b[0m\u001b[1;33m)\u001b[0m\u001b[1;33m\u001b[0m\u001b[0m\n\u001b[0;32m     12\u001b[0m     \u001b[0mstdev\u001b[0m\u001b[1;33m.\u001b[0m\u001b[0mappend\u001b[0m\u001b[1;33m(\u001b[0m\u001b[0mfloat\u001b[0m\u001b[1;33m(\u001b[0m\u001b[0mmightymatrix\u001b[0m\u001b[1;33m[\u001b[0m\u001b[0mj\u001b[0m\u001b[1;33m]\u001b[0m\u001b[1;33m[\u001b[0m\u001b[1;36m2\u001b[0m\u001b[1;33m]\u001b[0m\u001b[1;33m)\u001b[0m\u001b[1;33m)\u001b[0m\u001b[1;33m\u001b[0m\u001b[0m\n",
      "\u001b[1;31mIndexError\u001b[0m: list index out of range"
     ]
    },
    {
     "data": {
      "image/png": "[encoded data removed]",
      "text/plain": [
       "<matplotlib.figure.Figure at 0x26fb46170f0>"
      ]
     },
     "metadata": {},
     "output_type": "display_data"
    }
   ],
   "source": [
    "filename = file_paths[a].replace('/home/george/mphysworkspace/initialfiles','').replace('.txt','')\n",
    "picturename = file_paths[a].replace('/initialfiles', '/picturefiles').replace('.txt','.png').replace('registered','stdev')\n",
    "fig = plt.figure(figsize=(12,6))\n",
    "ax = fig.gca()\n",
    "means = []\n",
    "stdev = []\n",
    "scan = []\n",
    "j=0\n",
    "while j<len(mightymatrix):\n",
    "    scan.append(float(mightymatrix[j][0]))\n",
    "    means.append(float(mightymatrix[j][1]))\n",
    "    stdev.append(float(mightymatrix[j][2]))\n",
    "    j+=1\n",
    "    \n",
    "plt.scatter(scan,stdev)\n",
    "#plt.errorbar(scan, means, yerr = stdev, linestyle=\"None\")\n",
    "\n",
    "plt.title('Scan Number vs HU St. Dev. for file %s' %filename, fontsize = 20)\n",
    "plt.xlabel('Scan Number', fontsize = 18)\n",
    "plt.ylabel('HU St. Dev.',fontsize = 18)\n",
    "\n",
    "plt.grid()\n",
    "plt.show()\n",
    "fig.savefig(picturename)"
   ]
  },
  {
   "cell_type": "code",
   "execution_count": null,
   "metadata": {},
   "outputs": [],
   "source": [
    "a=0\n",
    "\n",
    "while a < len(file_paths):\n",
    "    mightymatrix = []\n",
    "\n",
    "    try:\n",
    "\n",
    "        with open(file_paths[a]) as matrix:\n",
    "\n",
    "\n",
    "\n",
    "\n",
    "            for l in matrix:\n",
    "                #l.replace('\\t', ',')\n",
    "                #l.replace('\\r\\n','')\n",
    "                bit = l.split('\\t')\n",
    "                templine = []\n",
    "                i=0\n",
    "                while i < len(bit):\n",
    "                    templine.append(bit[i])\n",
    "                    i+=1\n",
    "\n",
    "                print(templine)\n",
    "                mightymatrix.append(templine)\n",
    "\n",
    "\n",
    "    except Exception as e:\n",
    "\n",
    "        print('Oops... Error encountered')\n",
    "        print(e)\n",
    "        \n",
    "        \n",
    "    filename = file_paths[a].replace(data_root,'').replace('.txt','')\n",
    "    picturename = file_paths[a].replace('/initialfiles', '/picturefiles').replace('.txt','.png').replace('registered','stdev')\n",
    "    fig = plt.figure(figsize=(12,6))\n",
    "    ax = fig.gca()\n",
    "    means = []\n",
    "    stdev = []\n",
    "    scan = []\n",
    "    j=0\n",
    "    while j<len(mightymatrix):\n",
    "        scan.append(float(mightymatrix[j][0]))\n",
    "        means.append(float(mightymatrix[j][1]))\n",
    "        stdev.append(float(mightymatrix[j][2]))\n",
    "        j+=1\n",
    "\n",
    "    plt.scatter(scan,stdev)\n",
    "    #plt.errorbar(scan, means, yerr = stdev, linestyle=\"None\")\n",
    "\n",
    "    plt.title('Scan Number vs HU St. Dev. for file %s' %filename, fontsize = 20)\n",
    "    plt.xlabel('Scan Number', fontsize = 18)\n",
    "    plt.ylabel('HU St. Dev.',fontsize = 18)\n",
    "\n",
    "    plt.grid()\n",
    "    #plt.show()\n",
    "    fig.savefig(picturename)\n",
    "    \n",
    "    a+=1"
   ]
  }
 ],
 "metadata": {
  "anaconda-cloud": {},
  "kernelspec": {
   "display_name": "Python 3",
   "language": "python",
   "name": "python3"
  },
  "language_info": {
   "codemirror_mode": {
    "name": "ipython",
    "version": 3
   },
   "file_extension": ".py",
   "mimetype": "text/x-python",
   "name": "python",
   "nbconvert_exporter": "python",
   "pygments_lexer": "ipython3",
   "version": "3.5.3"
  }
 },
 "nbformat": 4,
 "nbformat_minor": 1
}
