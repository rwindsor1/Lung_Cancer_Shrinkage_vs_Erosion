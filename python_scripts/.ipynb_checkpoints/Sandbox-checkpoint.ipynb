{
 "cells": [
  {
   "cell_type": "code",
   "execution_count": 64,
   "metadata": {},
   "outputs": [
    {
     "name": "stdout",
     "output_type": "stream",
     "text": [
      "['NSCLC1__registered_OARsfullscan2.nii', 'NSCLC1__registered_OARsfullscan3.nii', 'NSCLC1__registered_OARsfullscan4.nii', 'NSCLC1__registered_OARsfullscan5.nii', 'NSCLC1__registered_OARsfullscan6.nii', 'NSCLC1__registered_OARsfullscan7.nii']\n"
     ]
    },
    {
     "data": {
      "image/png": "[encoded data removed]",
      "text/plain": [
       "<matplotlib.figure.Figure at 0x23ba59687f0>"
      ]
     },
     "metadata": {},
     "output_type": "display_data"
    }
   ],
   "source": [
    "import nibabel as nib\n",
    "import matplotlib.pyplot as plt\n",
    "%matplotlib inline\n",
    "import os\n",
    "\n",
    "def show_slice(slice_obj):\n",
    "    # Function to display row of image slices\n",
    "    fig, axes = plt.subplots(1)\n",
    "    axes.imshow(slice_obj, cmap=\"gray\", origin=\"lower\")\n",
    "\n",
    "class scan:\n",
    "    def __init__(self, memmap):\n",
    "        self.image_map = memmap\n",
    "        \n",
    "    def __getitem__(self, slice_no):\n",
    "        return np.array(self.image_map[:,:,slice_no])\n",
    "    \n",
    "    def show(self,slice_no):\n",
    "        show_slice(self[slice_no])\n",
    "        \n",
    "path_to_tumour_niftis = \"D:/fullTumourNiftys/NSCLC1_\"\n",
    "full_tumour_niftis = os.listdir(path_to_tumour_niftis)\n",
    "print(full_tumour_niftis)\n",
    "nib_img = nib.load(os.path.join(path_to_tumour_niftis,full_tumour_niftis[1]))\n",
    "img_scan = scan(nib_img.get_data())\n",
    "img_scan.show(70)\n",
    "plt.show()\n",
    "\n"
   ]
  },
  {
   "cell_type": "code",
   "execution_count": 71,
   "metadata": {},
   "outputs": [
    {
     "name": "stdout",
     "output_type": "stream",
     "text": [
      "(410, 410)\n"
     ]
    }
   ],
   "source": [
    "array = np.array(img_scan[70])\n",
    "print(array.shape)"
   ]
  }
 ],
 "metadata": {
  "kernelspec": {
   "display_name": "Python 3",
   "language": "python",
   "name": "python3"
  },
  "language_info": {
   "codemirror_mode": {
    "name": "ipython",
    "version": 3
   },
   "file_extension": ".py",
   "mimetype": "text/x-python",
   "name": "python",
   "nbconvert_exporter": "python",
   "pygments_lexer": "ipython3",
   "version": "3.5.3"
  }
 },
 "nbformat": 4,
 "nbformat_minor": 2
}
