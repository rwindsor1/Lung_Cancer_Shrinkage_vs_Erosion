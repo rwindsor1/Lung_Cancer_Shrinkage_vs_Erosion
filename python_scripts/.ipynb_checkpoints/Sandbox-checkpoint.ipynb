{
 "cells": [
  {
   "cell_type": "code",
   "execution_count": null,
   "metadata": {
    "collapsed": true
   },
   "outputs": [],
   "source": [
    "import numpy as np\n",
    "\n",
    "\n",
    "arr1 = np.load(\"C:/Users/Rhydian/Documents/Work/MPhysProject/nparrays/inside/NSCLC10scan3NSCLC10_.npy\")\n",
    "arr2 = np.load(\"C:/Users/Rhydian/Documents/Work/MPhysProject/nparrays/inside/NSCLC10scan5NSCLC10_.npy\")\n",
    "\n",
    "print(np.is_equal(arr1,arr2))"
   ]
  }
 ],
 "metadata": {
  "kernelspec": {
   "display_name": "Python 3",
   "language": "python",
   "name": "python3"
  },
  "language_info": {
   "codemirror_mode": {
    "name": "ipython",
    "version": 3
   },
   "file_extension": ".py",
   "mimetype": "text/x-python",
   "name": "python",
   "nbconvert_exporter": "python",
   "pygments_lexer": "ipython3",
   "version": "3.5.3"
  }
 },
 "nbformat": 4,
 "nbformat_minor": 2
}
