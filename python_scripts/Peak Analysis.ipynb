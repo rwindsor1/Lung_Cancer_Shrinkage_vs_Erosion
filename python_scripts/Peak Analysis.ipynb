{
 "cells": [
  {
   "cell_type": "code",
   "execution_count": 3,
   "metadata": {
    "collapsed": true
   },
   "outputs": [],
   "source": [
    "import os\n",
    "import numpy as np\n",
    "import matplotlib.pyplot as plt\n",
    "dict = {\"NSCLC1_\":[1200,900,100],\n",
    "        \"NSCLC2_\":[1200,300,80],\n",
    "        \"NSCLC5_\":[1200,1400,100],\n",
    "        \"NSCLC6_\":[1200,400,100],\n",
    "        \"NSCLC7_\":[1200,2200,100],\n",
    "        \"NSCLC10\":[1200,500,100],\n",
    "        \"NSCLC11\":[1200,1600,200],\n",
    "        \"NSCLC16\":[1200,500, 100]}\n",
    "input_file= \"C:/Users/Rhydian/Documents/Work/MPhysProject/nparrays/inside\"\n",
    "\n",
    "array_names = os.listdir(input_file)\n",
    "    "
   ]
  },
  {
   "cell_type": "code",
   "execution_count": 4,
   "metadata": {},
   "outputs": [
    {
     "name": "stdout",
     "output_type": "stream",
     "text": [
      "NSCLC16scan6NSCLC16_.npy\n"
     ]
    },
    {
     "data": {
      "image/png": "[encoded data removed]",
      "text/plain": [
       "<matplotlib.figure.Figure at 0x2cbed685320>"
      ]
     },
     "metadata": {},
     "output_type": "display_data"
    }
   ],
   "source": [
    "array_name = array_names[12]\n",
    "print(array_name)\n",
    "info_array = dict[array_name[0:7]]\n",
    "arr = np.load(os.path.join(input_file,array_name))\n",
    "values, bins, _ = plt.hist(arr[~np.isnan(arr)], bins = 100, normed = True)\n",
    "plt.show()"
   ]
  },
  {
   "cell_type": "code",
   "execution_count": 5,
   "metadata": {},
   "outputs": [
    {
     "data": {
      "text/plain": [
       "\"kde = KernelDensity(kernel='gaussian', bandwidth=0.2).fit(my_matrix)\\nsamples = kde.sample(1000)\\nsamples = np.array(samples)\\nplt.scatter(samples[:,0],samples[:,1])\\nplt.show()\""
      ]
     },
     "execution_count": 5,
     "metadata": {},
     "output_type": "execute_result"
    }
   ],
   "source": [
    "from sklearn.neighbors.kde import KernelDensity\n",
    "specialboy = zip(bins,values)\n",
    "my_matrix = []\n",
    "for i in list(specialboy):\n",
    "    my_matrix.append(list(i))\n",
    "\n",
    "\"\"\"kde = KernelDensity(kernel='gaussian', bandwidth=0.2).fit(my_matrix)\n",
    "samples = kde.sample(1000)\n",
    "samples = np.array(samples)\n",
    "plt.scatter(samples[:,0],samples[:,1])\n",
    "plt.show()\"\"\""
   ]
  },
  {
   "cell_type": "code",
   "execution_count": 6,
   "metadata": {},
   "outputs": [
    {
     "name": "stdout",
     "output_type": "stream",
     "text": [
      "100\n",
      "101\n",
      "100\n"
     ]
    }
   ],
   "source": [
    "print(len(values))\n",
    "print(len(bins))\n",
    "bins_median = []\n",
    "for i in range(1,len(bins)):\n",
    "    bins_median.append(0.5*(bins[i-1]+bins[i]))\n",
    "\n",
    "bins = bins_median\n",
    "    \n",
    "print(len(bins))"
   ]
  },
  {
   "cell_type": "code",
   "execution_count": 7,
   "metadata": {},
   "outputs": [
    {
     "name": "stdout",
     "output_type": "stream",
     "text": [
      "[   1.  400.   50.    1.  900.   50.    1.  650.   50.]\n"
     ]
    },
    {
     "name": "stderr",
     "output_type": "stream",
     "text": [
      "c:\\users\\rhydian\\appdata\\local\\programs\\python\\python35\\lib\\site-packages\\ipykernel_launcher.py:45: RuntimeWarning: divide by zero encountered in log\n",
      "c:\\users\\rhydian\\appdata\\local\\programs\\python\\python35\\lib\\site-packages\\ipykernel_launcher.py:45: RuntimeWarning: invalid value encountered in multiply\n"
     ]
    }
   ],
   "source": [
    "import numpy as np\n",
    "import pylab as pl\n",
    "import scipy as sp\n",
    "\n",
    "def make_double_gaussian(hd,parms):\n",
    "    \n",
    "    a1,mu1,sig1,a2,mu2,sig2 = parms\n",
    "    \n",
    "    vals = a1*np.exp(-1.*(hd-mu1)**2/(2.*sig1**2)) + a2*np.exp(-1.*(hd-mu2)**2/(2.*sig2**2))\n",
    "    \n",
    "    return vals\n",
    "\n",
    "def nll(parms,hd,vals):\n",
    "    \n",
    "    test = make_double_gaussian(hd,parms)\n",
    "    \n",
    "    # Poisson negative loglikelihood:\n",
    "    # NOTE: if there are any zero-valued data points in\n",
    "    # your prediction (test) this will return a NaN.\n",
    "    ll = -np.sum(test) + np.sum(vals*np.log(test)) - np.sum(sp.special.gammaln(vals + 1))\n",
    "    nll = -1.*ll\n",
    "    \n",
    "    # L2 norm:\n",
    "    #nll = np.sum((test - vals)**2)\n",
    "    \n",
    "    return nll\n",
    "\n",
    "def make_triple_gaussian(hd,parms):\n",
    "    \n",
    "    a1,mu1,sig1,a2,mu2,sig2,a3,mu3,sig3 = parms\n",
    "    \n",
    "    vals = a1*np.exp(-1.*(hd-mu1)**2/(2.*sig1**2)) + a2*np.exp(-1.*(hd-mu2)**2/(2.*sig2**2)) + a3*np.exp(-1.*(hd-mu3)**2/(2.*sig3**2))\n",
    "    \n",
    "    return vals\n",
    "\n",
    "\n",
    "\n",
    "def nll3(parms,hd,vals):\n",
    "    \n",
    "    test = make_triple_gaussian(hd,parms)\n",
    "    \n",
    "    # Poisson negative loglikelihood:\n",
    "    # NOTE: if there are any zero-valued data points in\n",
    "    # your prediction (test) this will return a NaN.\n",
    "    ll = -np.sum(test) + np.sum(vals*np.log(test)) - np.sum(sp.special.gammaln(vals + 1))\n",
    "    nll = -1.*ll\n",
    "    \n",
    "    # L2 norm:\n",
    "    #nll = np.sum((test - vals)**2)\n",
    "    \n",
    "    return nll\n",
    "\n",
    "import scipy.optimize as op\n",
    "bounds = [(50.,100.),(400.,600.),(50.,200.),(300,500),(700,900),(30,200)]\n",
    "bounds_3 = [(0.,100.),(400.,600.),(50.,200.),(0.,500),(700,900),(30,200),(0,100),(500,750),(50,200)]\n",
    "p0 = [1.,400.,50.,1.,900.,50.]\n",
    "p0_3 = [1.,400.,50.,1.,900.,50.,1.,650.,50.]\n",
    "\n",
    "popt = op.minimize(nll3, p0_3, bounds = bounds_3, args=(bins,values))\n",
    "\n",
    "print(popt.x)\n"
   ]
  },
  {
   "cell_type": "code",
   "execution_count": 8,
   "metadata": {},
   "outputs": [
    {
     "data": {
      "image/png": "[encoded data removed]",
      "text/plain": [
       "<matplotlib.figure.Figure at 0x2cb8a0c6278>"
      ]
     },
     "metadata": {},
     "output_type": "display_data"
    }
   ],
   "source": [
    "fitted = make_triple_gaussian(bins,popt.x)\n",
    "try:\n",
    "    previous_values.append(popt.x)\n",
    "    print(previous_values)\n",
    "except:\n",
    "    previous_values = [popt.x]\n",
    "pl.subplot(111)\n",
    "pl.scatter(bins,values)\n",
    "pl.plot(bins,fitted,c='r')\n",
    "pl.show()\n"
   ]
  },
  {
   "cell_type": "code",
   "execution_count": 9,
   "metadata": {},
   "outputs": [
    {
     "name": "stdout",
     "output_type": "stream",
     "text": [
      "400.0\n",
      "\n",
      " Second Peaks \n",
      "\n",
      "900.0\n"
     ]
    }
   ],
   "source": [
    "for element in previous_values:\n",
    "    print(element[1])\n",
    "\n",
    "print(\"\\n Second Peaks \\n\")\n",
    "for element in previous_values:\n",
    "    print(element[4])\n",
    "    "
   ]
  }
 ],
 "metadata": {
  "kernelspec": {
   "display_name": "Python 3",
   "language": "python",
   "name": "python3"
  },
  "language_info": {
   "codemirror_mode": {
    "name": "ipython",
    "version": 3
   },
   "file_extension": ".py",
   "mimetype": "text/x-python",
   "name": "python",
   "nbconvert_exporter": "python",
   "pygments_lexer": "ipython3",
   "version": "3.5.3"
  }
 },
 "nbformat": 4,
 "nbformat_minor": 2
}
