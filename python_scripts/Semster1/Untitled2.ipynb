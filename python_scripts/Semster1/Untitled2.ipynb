{
 "cells": [
  {
   "cell_type": "code",
   "execution_count": 6,
   "metadata": {},
   "outputs": [
    {
     "name": "stdout",
     "output_type": "stream",
     "text": [
      "NSCLC1_.csv\n",
      "NSCLC16.csv\n",
      "NSCLC2_.csv\n",
      "NSCLC7_.csv\n",
      "NSCLC6_.csv\n",
      "NSCLC5_.csv\n",
      "NSCLC10.csv\n",
      "NSCLC11.csv\n"
     ]
    }
   ],
   "source": [
    "import seaborn as sb\n",
    "import os\n",
    "\n",
    "csv_folder = \"D:/allCSV/ring\"\n",
    "csv_names = os.listdir(csv_folder)\n",
    "\n",
    "csv_data = {}\n",
    "for patient_csv in csv_names:\n",
    "    datafile = open(os.path.join(csv_folder,patient_csv),'r')\n",
    "    arr = []\n",
    "    for line in datafile:\n",
    "        line_csv = line.split(\",\")\n",
    "        arr.append(line_csv)\n",
    "    csv_data[patient_csv] = arr\n",
    "    datafile.close()\n",
    "\n",
    "    \n",
    "for entry in csv_data:\n",
    "    print(entry)"
   ]
  },
  {
   "cell_type": "code",
   "execution_count": 9,
   "metadata": {},
   "outputs": [
    {
     "ename": "AttributeError",
     "evalue": "module 'seaborn' has no attribute 'plot'",
     "output_type": "error",
     "traceback": [
      "\u001b[1;31m---------------------------------------------------------------------------\u001b[0m",
      "\u001b[1;31mAttributeError\u001b[0m                            Traceback (most recent call last)",
      "\u001b[1;32m<ipython-input-9-a95bca3dbb3d>\u001b[0m in \u001b[0;36m<module>\u001b[1;34m()\u001b[0m\n\u001b[0;32m      1\u001b[0m \u001b[1;33m\u001b[0m\u001b[0m\n\u001b[0;32m      2\u001b[0m \u001b[1;32mfor\u001b[0m \u001b[0mentry\u001b[0m \u001b[1;32min\u001b[0m \u001b[0mcsv_data\u001b[0m\u001b[1;33m:\u001b[0m\u001b[1;33m\u001b[0m\u001b[0m\n\u001b[1;32m----> 3\u001b[1;33m     \u001b[0msb\u001b[0m\u001b[1;33m.\u001b[0m\u001b[0mplot\u001b[0m\u001b[1;33m(\u001b[0m\u001b[0mentry\u001b[0m\u001b[1;33m[\u001b[0m\u001b[1;36m0\u001b[0m\u001b[1;33m]\u001b[0m\u001b[1;33m)\u001b[0m\u001b[1;33m\u001b[0m\u001b[0m\n\u001b[0m",
      "\u001b[1;31mAttributeError\u001b[0m: module 'seaborn' has no attribute 'plot'"
     ]
    }
   ],
   "source": [
    "\n",
    "for entry in csv_data:\n",
    "    sb.plot(entry[0])"
   ]
  }
 ],
 "metadata": {
  "kernelspec": {
   "display_name": "Python 3",
   "language": "python",
   "name": "python3"
  },
  "language_info": {
   "codemirror_mode": {
    "name": "ipython",
    "version": 3
   },
   "file_extension": ".py",
   "mimetype": "text/x-python",
   "name": "python",
   "nbconvert_exporter": "python",
   "pygments_lexer": "ipython3",
   "version": "3.5.3"
  }
 },
 "nbformat": 4,
 "nbformat_minor": 2
}
