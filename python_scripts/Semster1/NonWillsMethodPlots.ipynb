{
 "cells": [
  {
   "cell_type": "markdown",
   "metadata": {},
   "source": [
    "# Will's Method\n",
    "\n",
    "Looking at how the HU in the ring we created changes relative to the whole tumour volume"
   ]
  },
  {
   "cell_type": "code",
   "execution_count": 1,
   "metadata": {
    "collapsed": true
   },
   "outputs": [],
   "source": [
    "# Import packages and functions\n",
    "\n",
    "import os\n",
    "import seaborn as sns\n",
    "import matplotlib as mpl\n",
    "import matplotlib.pyplot as plt\n",
    "import numpy as np\n",
    "import pandas as pd\n",
    "\n",
    "\n",
    "def inforeader(folderpath):\n",
    "    peaksfolder = folderpath\n",
    "    peaks_file_names=[]\n",
    "    for folder, subs, files in os.walk(peaksfolder):\n",
    "        for filename in files:\n",
    "            peaks_file_names.append(os.path.abspath(os.path.join(folder, filename)))\n",
    "\n",
    "    myorder = [3,4,5,6,7,0,1,2]\n",
    "    peaks_file_names = [ peaks_file_names[i] for i in myorder]\n",
    "    #print(peaks_file_names)\n",
    "    j=0\n",
    "    peaksinfo = []\n",
    "    while j<len(peaks_file_names):\n",
    "        with open(peaks_file_names[j],\"r\") as file:\n",
    "            datamatrix = []\n",
    "            for line in file:\n",
    "                templine = []\n",
    "                line.replace(\"\\n\",\"\")\n",
    "                bit = line.split(\",\")\n",
    "                for element in bit:\n",
    "                    templine.append(element)\n",
    "                templine = templine[:-1]\n",
    "                for element in templine:\n",
    "                    element = float(element)\n",
    "                datamatrix.append(templine)\n",
    "\n",
    "\n",
    "            peaksinfo.append(datamatrix)\n",
    "        j+=1\n",
    "\n",
    "    return peaksinfo"
   ]
  },
  {
   "cell_type": "code",
   "execution_count": 2,
   "metadata": {
    "collapsed": true
   },
   "outputs": [],
   "source": [
    "# Load up all of our time data for each patient\n",
    "\n",
    "timefile = \"D:/allCSV/scantimes.csv\"\n",
    "\n",
    "with open(timefile,\"r\") as file:\n",
    "    datamatrix = []\n",
    "    for line in file:\n",
    "        templine = []\n",
    "        #line.replace(\"\\n\",\"\")\n",
    "        bit = line.split(\",\")\n",
    "        datamatrix.append([str(bit[0]),str(bit[1]),\n",
    "                         str(bit[2]),str(bit[3]),str(bit[4]),\n",
    "                           str(bit[5]),str(bit[6]),\n",
    "                           str(bit[7].replace('\\n',''))])\n",
    "        \n",
    "#print(datamatrix)"
   ]
  },
  {
   "cell_type": "code",
   "execution_count": 3,
   "metadata": {
    "collapsed": true
   },
   "outputs": [],
   "source": [
    "# Create dataframe for each patient with which to store all of our data\n",
    "\n",
    "df = {'N01':[[],[]],\n",
    "     'N02':[[],[]],\n",
    "     'N05':[[],[]],\n",
    "     'N06':[[],[]],\n",
    "     'N07':[[],[]],\n",
    "     'N10':[[],[]],\n",
    "     'N11':[[],[]],\n",
    "     'N16':[[],[]]\n",
    "     }\n",
    "\n",
    "\n",
    "# Append all time information to first list in each patient entry\n",
    "for element in datamatrix:\n",
    "    if datamatrix.index(element) in range(0,8):\n",
    "        df[element[0]][0]=element[1:]\n",
    "    "
   ]
  },
  {
   "cell_type": "code",
   "execution_count": 4,
   "metadata": {},
   "outputs": [
    {
     "name": "stdout",
     "output_type": "stream",
     "text": [
      "[[['587.194018178', '380.0', '119.646263707', '271.453237605', '912.036337109', '39.7986771142', '77.1675880082', '733.864196538', '86.0800254547'], ['481.609183255', '380.0', '130.739739206', '242.894556915', '893.042403002', '50.5390875172', '118.371272856', '729.024861767', '80.6147837983'], ['444.393323851', '380.0', '117.726115164', '286.410642183', '900.417064009', '42.1732297526', '153.051330796', '729.951793094', '98.2867399828'], ['467.168561541', '386.212574461', '90.3851885893', '243.027191065', '894.802685927', '57.4545484443', '246.061726919', '574.976973021', '135.100338982'], ['500.499202666', '380.0', '106.761419188', '274.575642551', '898.378571261', '41.6199185383', '150.675844543', '667.900880804', '106.044737487'], ['520.465042127', '380.0', '104.344777175', '265.745201488', '911.614193646', '45.2562725542', '191.974033529', '625.816583884', '135.257945781']], [['91.895833463', '450.0', '76.1476136285', '40.7111734888', '800.0', '82.0507440937', '138.058438044', '501.979076439', '83.8885516449'], ['174.362779469', '445.28139591', '67.4719317681', '56.5516487373', '863.105448816', '42.454765732', '69.707498117', '614.754097131', '101.740124416'], ['129.080780709', '450.0', '76.0203604465', '105.648420488', '879.698601447', '39.381990551', '58.5872558153', '629.706532608', '129.717335405'], ['159.909698647', '422.308988458', '61.4878206659', '63.5291913871', '866.410957656', '56.9461568404', '67.840982039', '571.621195942', '109.40482365'], ['111.837359037', '380.0', '57.6764824851', '40.3945108693', '807.586000912', '84.2982019568', '141.917196999', '500.0', '86.950324306'], ['117.607558608', '450.0', '77.4119080408', '64.9515176139', '856.920446956', '42.863409987', '62.1694680337', '591.333109592', '119.287923212']], [['260.487894556', '410.720787727', '78.6215743277', '724.59519481', '875.470917467', '39.6846485619', '116.325735609', '704.261226071', '138.506470678'], ['328.821048221', '392.20609159', '79.4014417349', '703.298649377', '885.605273634', '40.373762197', '104.592577479', '663.392170495', '130.345547898'], ['322.743935027', '388.911501785', '81.0028828768', '921.344104222', '883.14387769', '33.3302302613', '82.7955057199', '709.957567732', '112.388825816'], ['288.429600772', '405.905057705', '78.8800260664', '866.971676553', '888.430889064', '38.8164663516', '82.8079471379', '696.687581749', '128.82718433'], ['367.96697867', '380.0', '80.3258095708', '823.244589333', '894.947704176', '35.9134247136', '92.3146386657', '717.994123451', '113.453942572'], ['312.522682406', '380.0', '83.4844318016', '848.238978784', '891.786963905', '34.8832465429', '95.3841753287', '722.936358537', '106.487092816']], [['214.152742161', '423.629446271', '116.074353686', '40.3704709938', '800.0', '19.5129394345', '122.453929878', '740.474071972', '64.3360147796'], ['183.986953246', '403.344137483', '83.3955260832', '99.2982142602', '800.0', '36.3455263717', '114.647812096', '649.363486737', '104.38586954'], ['193.388283787', '380.0', '82.5228604195', '64.4781230649', '800.0', '50.6511817202', '122.151695194', '617.302815453', '116.862001891'], ['207.544061427', '416.458984929', '105.851669996', '56.5185079935', '800.0', '27.3362888788', '133.263452279', '697.120348958', '87.6472412121'], ['214.967514396', '380.0', '74.8942840477', '105.79054184', '800.0', '43.4786360977', '107.952793359', '628.558552686', '115.62207851']], [['15.3136126664', '450.0', '1000.0', '2000.0', '962.865153535', '62.9402388981', '1066.35409043', '700.265386988', '215.134574198'], ['778.658348865', '440.309382977', '143.720089273', '2000.0', '960.50162345', '53.6162748194', '988.848022096', '800.0', '140.595601182'], ['850.870638018', '380.0', '145.517612762', '2000.0', '955.14102426', '57.3762606623', '774.143921239', '800.0', '141.985586469'], ['708.819215261', '380.0', '163.869286333', '2000.0', '952.700568232', '58.8052157381', '566.477591173', '800.0', '144.199135828'], ['639.359359376', '450.0', '1000.0', '1292.44134149', '1200.0', '10.0', '10.0', '800.0', '10.0'], ['406.80884769', '450.0', '571.77062984', '10.0', '1200.0', '10.0', '682.251017598', '800.0', '185.55855096'], ['1044.81719948', '380.0', '189.333518517', '2000.0', '952.953018933', '60.0058692846', '550.994506537', '800.0', '160.272419775']], [['74.1938213929', '420.079632962', '90.8961016073', '315.006373501', '825.349287953', '41.231293734', '74.1444884992', '657.000206536', '102.322924856'], ['74.1938213929', '420.079632962', '90.8961016073', '315.006373501', '825.349287953', '41.231293734', '74.1444884992', '657.000206536', '102.322924856'], ['74.1938213929', '420.079632962', '90.8961016073', '315.006373501', '825.349287953', '41.231293734', '74.1444884992', '657.000206536', '102.322924856'], ['70.2077808149', '450.0', '100.092598077', '306.226549798', '837.932273282', '43.6459679285', '77.7957517184', '678.224562137', '95.8126162727'], ['68.9080624403', '433.912558666', '96.7043069042', '336.926848995', '829.406879557', '41.7701306773', '71.4119635848', '666.997225497', '94.3128587163'], ['77.7691418535', '392.531719182', '78.8300074659', '290.512204139', '835.660548551', '39.1163644079', '75.9564478064', '626.484934362', '121.703748898']], [['279.591503497', '450.0', '103.877757557', '1516.24859356', '866.729540833', '45.9911147956', '311.670839006', '704.106208514', '129.431228631'], ['163.17658041', '450.0', '92.3361234871', '1680.49802619', '874.415605209', '45.6667059926', '265.634052687', '719.262446051', '107.110128714'], ['303.087221869', '436.570900096', '103.459922442', '1623.00887773', '875.587434713', '40.2834146981', '267.95929753', '741.024891582', '89.4029617936'], ['371.63713789', '380.0', '77.7091619057', '1568.70673964', '861.554880582', '50.7196620556', '215.501370207', '653.563342347', '123.58732946']], [['13.0279971067', '450.0', '30.5566188454', '196.192155929', '800.0', '42.1077511513', '113.019441206', '670.209445821', '103.107616177'], ['14.9787602222', '450.0', '33.6656459873', '343.065347198', '800.0', '37.5841930284', '40.0007881028', '688.927556569', '110.626121669'], ['42.9233730219', '450.0', '51.541935096', '404.048826403', '808.099499076', '34.7042062787', '50.1530676853', '709.160831779', '95.4094229122'], ['21.3207611661', '450.0', '32.8565147786', '283.22701723', '800.0', '48.1729541802', '38.5386535751', '617.896851085', '110.169781635'], ['22.1728577288', '444.709710578', '46.2259787327', '391.483148255', '802.550592917', '33.3264683794', '56.0688831978', '645.957059674', '99.6313735478']]]\n"
     ]
    }
   ],
   "source": [
    "# Load in all information we had before from within the annular masks\n",
    "# and whole masks using defined function \"inforeader\" to read in \n",
    "# the csv files of the Gaussian info we created.\n",
    "\n",
    "ringfolder = \"D:/allCSV/ring\"\n",
    "ringmatrix = inforeader(ringfolder)\n",
    "print(ringmatrix)\n",
    "wholefolder = \"D:/allCSV/whole\"\n",
    "wholematrix = inforeader(wholefolder)"
   ]
  },
  {
   "cell_type": "code",
   "execution_count": 5,
   "metadata": {},
   "outputs": [
    {
     "name": "stdout",
     "output_type": "stream",
     "text": [
      "[[271.453237605, 242.894556915, 286.410642183, 243.027191065, 274.575642551, 265.745201488], [40.7111734888, 56.5516487373, 105.648420488, 63.5291913871, 40.3945108693, 64.9515176139], [724.59519481, 703.298649377, 921.344104222, 866.971676553, 823.244589333, 848.238978784], [40.3704709938, 99.2982142602, 64.4781230649, 56.5185079935, 105.79054184], [2000.0, 2000.0, 2000.0, 2000.0, 1292.44134149, 10.0, 2000.0], [315.006373501, 315.006373501, 315.006373501, 306.226549798, 336.926848995, 290.512204139], [1516.24859356, 1680.49802619, 1623.00887773, 1568.70673964], [196.192155929, 343.065347198, 404.048826403, 283.22701723, 391.483148255]]\n",
      "[[587.194018178, 481.609183255, 444.393323851, 467.168561541, 500.499202666, 520.465042127], [91.895833463, 174.362779469, 129.080780709, 159.909698647, 111.837359037, 117.607558608], [260.487894556, 328.821048221, 322.743935027, 288.429600772, 367.96697867, 312.522682406], [214.152742161, 183.986953246, 193.388283787, 207.544061427, 214.967514396], [15.3136126664, 778.658348865, 850.870638018, 708.819215261, 639.359359376, 406.80884769, 1044.81719948], [74.1938213929, 74.1938213929, 74.1938213929, 70.2077808149, 68.9080624403, 77.7691418535], [279.591503497, 163.17658041, 303.087221869, 371.63713789], [13.0279971067, 14.9787602222, 42.9233730219, 21.3207611661, 22.1728577288]]\n"
     ]
    }
   ],
   "source": [
    "ringtumourpeaks = [[float(entry[3]) for entry in patient] for patient in ringmatrix] \n",
    "ringhealthypeaks = [[float(entry[0]) for entry in patient] for patient in ringmatrix]\n",
    "print(ringtumourpeaks)\n",
    "print(ringhealthypeaks)"
   ]
  },
  {
   "cell_type": "code",
   "execution_count": 6,
   "metadata": {},
   "outputs": [
    {
     "name": "stdout",
     "output_type": "stream",
     "text": [
      "[[1.0, 0.8960299075965269, 0.5878854258971824, 0.8582781577985346, 0.7926874616547142, 0.881065476633847], [1.0, 1.3217883043854322, 0.2586280137364126, 1.1175246016657165, 1.2158495215646783, 0.7472594635578675], [1.0, 0.770105532810496, 1.021269082483268, 1.0628122956312318, 0.811225988089548, 0.9795943381265911], [1.0, 0.4378483917202843, 0.7321740115585793, 0.8376556449853558, 0.4985117541180365], [1.0, 0.44632659355365, 0.4093003896049374, 0.4840138401317787, 0.34328603009787245, -0.9667076720918555, 0.3185488319903601], [0.9999999999999999, 0.9999999999999999, 0.9999999999999999, 1.0133308057331893, 1.0673571444183647, 0.933618853591851], [1.0, 1.1951204959699906, 0.9951500633044512, 0.8958990380940731], [1.0, 1.046682503868868, 0.9228701685291427, 0.9823210627979236, 1.0198002036119145]]\n"
     ]
    }
   ],
   "source": [
    "i=0\n",
    "relativepeaks = []\n",
    "while i<len(ringtumourpeaks):\n",
    "    templine = []\n",
    "    j=0\n",
    "    while j<len(ringtumourpeaks[i]):\n",
    "        templine.append(((ringtumourpeaks[i][j]-ringhealthypeaks[i][j])/(ringtumourpeaks[i][j]+ringhealthypeaks[i][j]))*(ringtumourpeaks[i][0]+ringhealthypeaks[i][0])/(ringtumourpeaks[i][0]-ringhealthypeaks[i][0]))\n",
    "        j+=1\n",
    "    relativepeaks.append(templine)\n",
    "    i+=1\n",
    "    \n",
    "print(relativepeaks)"
   ]
  },
  {
   "cell_type": "code",
   "execution_count": 50,
   "metadata": {},
   "outputs": [
    {
     "name": "stdout",
     "output_type": "stream",
     "text": [
      "[['0', '2', '9', '16', '17', '22'], [1.0, 0.8960299075965269, 0.5878854258971824, 0.8582781577985346, 0.7926874616547142, 0.881065476633847]]\n",
      "[['0', '3', '6', '10', '17', '23'], [1.0, 1.3217883043854322, 0.2586280137364126, 1.1175246016657165, 1.2158495215646783, 0.7472594635578675]]\n",
      "[['0', '7', '14', '21', '32', '38'], [1.0, 0.770105532810496, 1.021269082483268, 1.0628122956312318, 0.811225988089548, 0.9795943381265911]]\n",
      "[['0', '5', '13', '19', '26'], [1.0, 0.4378483917202843, 0.7321740115585793, 0.8376556449853558, 0.4985117541180365]]\n",
      "[['0', '4', '11', '18', '25', '32', '35'], [1.0, 0.44632659355365, 0.4093003896049374, 0.4840138401317787, 0.34328603009787245, -0.9667076720918555, 0.3185488319903601]]\n",
      "[['0', '7', '11', '18'], [0.9999999999999999, 1.0133308057331893, 1.0673571444183647, 0.933618853591851]]\n",
      "[['0', '7', '14', '21'], [1.0, 1.1951204959699906, 0.9951500633044512, 0.8958990380940731]]\n",
      "[['0', '5', '6', '13', '15'], [1.0, 1.046682503868868, 0.9228701685291427, 0.9823210627979236, 1.0198002036119145]]\n",
      "[[['0', '2', '9', '16', '17', '22'], [1.0, 0.8960299075965269, 0.5878854258971824, 0.8582781577985346, 0.7926874616547142, 0.881065476633847]], [['0', '3', '6', '10', '17', '23'], [1.0, 1.3217883043854322, 0.2586280137364126, 1.1175246016657165, 1.2158495215646783, 0.7472594635578675]], [['0', '7', '14', '21', '32', '38'], [1.0, 0.770105532810496, 1.021269082483268, 1.0628122956312318, 0.811225988089548, 0.9795943381265911]], [['0', '5', '13', '19', '26'], [1.0, 0.4378483917202843, 0.7321740115585793, 0.8376556449853558, 0.4985117541180365]], [['0', '4', '11', '18', '25', '32', '35'], [1.0, 0.44632659355365, 0.4093003896049374, 0.4840138401317787, 0.34328603009787245, -0.9667076720918555, 0.3185488319903601]], [['0', '7', '11', '18'], [0.9999999999999999, 1.0133308057331893, 1.0673571444183647, 0.933618853591851]], [['0', '7', '14', '21'], [1.0, 1.1951204959699906, 0.9951500633044512, 0.8958990380940731]], [['0', '5', '6', '13', '15'], [1.0, 1.046682503868868, 0.9228701685291427, 0.9823210627979236, 1.0198002036119145]]]\n"
     ]
    }
   ],
   "source": [
    "df['N01'][1] = relativepeaks[0]\n",
    "df['N02'][1] = relativepeaks[1]\n",
    "df['N05'][1] = relativepeaks[2]\n",
    "df['N06'][1] = relativepeaks[3]\n",
    "df['N07'][1] = relativepeaks[4]\n",
    "df['N10'][1] = relativepeaks[5]\n",
    "df['N11'][1] = relativepeaks[6]\n",
    "df['N16'][1] = relativepeaks[7]\n",
    "df['N10'][1] = df['N10'][1][2:]\n",
    "#print(df)\n",
    "namearray = ['N01','N02','N05','N06','N07','N10','N11','N16']\n",
    "anarray = []\n",
    "i=0\n",
    "while i<len(namearray):\n",
    "    name = namearray[i]\n",
    "    no_of_scans = len(df[name][1])\n",
    "    templine = [df[name][0][0:no_of_scans], df[name][1]]\n",
    "    print(templine)\n",
    "    for value in templine[0]:\n",
    "        value = int(value)\n",
    "    anarray.append(templine)\n",
    "    i+=1\n",
    "\n",
    "print(anarray)\n",
    "def remove_values_from_list(the_list, val):\n",
    "        while val in the_list:\n",
    "            the_list.remove(val)\n"
   ]
  },
  {
   "cell_type": "code",
   "execution_count": 49,
   "metadata": {},
   "outputs": [
    {
     "data": {
      "image/png": "[encoded data removed]",
      "text/plain": [
       "<matplotlib.figure.Figure at 0x24f0c326ac8>"
      ]
     },
     "metadata": {},
     "output_type": "display_data"
    }
   ],
   "source": [
    "import matplotlib.patches as mpatches\n",
    "sns.set()\n",
    "colourlist = sns.color_palette(\"Set2\", 10)\n",
    "ziplist = [list(i) for i in zip(colourlist,namearray)]\n",
    "newnamearray = ['NSCLC01','NSCLC02','NSCLC05','NSCLC06','NSCLC07','NSCLC10','NSCLC11','NSCLC16']\n",
    "patcharray = [mpatches.Patch(color=colourlist[i], label=newnamearray[i]) for i in range(8)]\n",
    "plt.subplots()\n",
    "k=0\n",
    "plt.xlim(0, 40)\n",
    "plt.ylim(-0.5,2.5)\n",
    "while k<(len(anarray)):\n",
    "    #if k==5:\n",
    "    #    anarray[k][1]=anarray[k][1][:-2]\n",
    "    plt.scatter(x=np.array(anarray[k][0]),y=np.array(anarray[k][1]),color = colourlist[k])\n",
    "    #plt.close()\n",
    "    k+=1\n",
    "xline = [list(np.linspace(0,40,40)), [1.0 for i in range(40)]]\n",
    "plt.plot(xline[0], xline[1], linewidth=1, linestyle = '--',c='k')\n",
    "\n",
    "#plt.title(\"Change in r during radiotherapy\",fontsize=\"large\")\n",
    "plt.xlabel(\"t (days)\")\n",
    "plt.ylabel(\"r(t)  / r(0)\")\n",
    "#plt.title(\"Plot 1: Showing how relative heights of histogram peaks\\n for tumour vs healthy lung change with time for 8 patients\", \n",
    "#          fontsize=14)\n",
    "plt.legend(handles=patcharray,loc=1,borderaxespad=0.,fontsize=\"x-small\")\n",
    "plt.savefig(\"D:/mphysproject/willsmethodplot.png\",format='png',edgecolour='w')\n",
    "plt.show()\n",
    "plt.close()"
   ]
  },
  {
   "cell_type": "code",
   "execution_count": 47,
   "metadata": {},
   "outputs": [
    {
     "data": {
      "image/png": "[encoded data removed]",
      "text/plain": [
       "<matplotlib.figure.Figure at 0x24f0c451cc0>"
      ]
     },
     "metadata": {},
     "output_type": "display_data"
    }
   ],
   "source": [
    "shrinkarray = [0,4,7]\n",
    "erodearray = [1,2,3,5,6]\n",
    "sns.set()\n",
    "colourlist = sns.color_palette(\"Set2\", 10)\n",
    "ziplist = [list(i) for i in zip(colourlist,namearray)]\n",
    "patcharray = [mpatches.Patch(color=colourlist[i], label=newnamearray[i]) for i in range(8)]\n",
    "plt.subplots()\n",
    "plt.xlim(0, 40)\n",
    "plt.ylim(-0.5,2.5)\n",
    "for k in shrinkarray:\n",
    "    plt.scatter(x=np.array(anarray[k][0]),y=np.array(anarray[k][1]),color = colourlist[k])\n",
    "xline = [list(np.linspace(0,40,40)), [1.0 for i in range(40)]]\n",
    "plt.plot(xline[0], xline[1], linewidth=1, linestyle = '--',c='k')\n",
    "#plt.title(\"Change in relative height of tumour and healthy peak\")\n",
    "plt.xlabel(\"t (days)\")\n",
    "plt.ylabel(\"r(t)  / r(0)\")\n",
    "#plt.title(\"Plot 1: Showing how relative heights of histogram peaks\\n for tumour vs healthy lung change with time for 8 patients\", \n",
    "#          fontsize=14)\n",
    "patcharrayshrink = [patcharray[k] for k in shrinkarray]\n",
    "plt.legend(handles=patcharrayshrink,borderaxespad=0.,loc=1)\n",
    "plt.savefig(\"D:/mphysproject/willsmethodplotshrink.png\",format='png',edgecolour='w')\n",
    "plt.show()\n",
    "plt.close()"
   ]
  },
  {
   "cell_type": "code",
   "execution_count": 48,
   "metadata": {},
   "outputs": [
    {
     "data": {
      "image/png": "[encoded data removed]",
      "text/plain": [
       "<matplotlib.figure.Figure at 0x24f0c2f0278>"
      ]
     },
     "metadata": {},
     "output_type": "display_data"
    }
   ],
   "source": [
    "sns.set()\n",
    "colourlist = sns.color_palette(\"Set2\", 10)\n",
    "ziplist = [list(i) for i in zip(colourlist,namearray)]\n",
    "patcharray = [mpatches.Patch(color=colourlist[i], label=newnamearray[i]) for i in range(8)]\n",
    "plt.subplots()\n",
    "plt.xlim(0, 40)\n",
    "plt.ylim(-0.5,2.5)\n",
    "for k in erodearray:\n",
    "    plt.scatter(x=np.array(anarray[k][0]),y=np.array(anarray[k][1]),color = colourlist[k])\n",
    "xline = [list(np.linspace(0,40,40)), [1.0 for i in range(40)]]\n",
    "plt.plot(xline[0], xline[1], linewidth=1, linestyle = '--',c='k')\n",
    "#plt.title(\"Normalised relative height of histogram peaks vs time for suspected non-elastic shrinkage\")\n",
    "plt.xlabel(\"t (days)\")\n",
    "plt.ylabel(\"r(t)  / r(0)\")\n",
    "#plt.title(\"Plot 1: Showing how relative heights of histogram peaks\\n for tumour vs healthy lung change with time for 8 patients\", \n",
    "#          fontsize=14)\n",
    "patcharrayerode = [patcharray[k] for k in erodearray]\n",
    "plt.legend(handles=patcharrayerode,loc=1,borderaxespad=0.)\n",
    "plt.savefig(\"D:/mphysproject/willsmethodploterode.png\",format='png',edgecolour='w')\n",
    "plt.show()\n",
    "plt.close()"
   ]
  }
 ],
 "metadata": {
  "kernelspec": {
   "display_name": "Python 3",
   "language": "python",
   "name": "python3"
  },
  "language_info": {
   "codemirror_mode": {
    "name": "ipython",
    "version": 3
   },
   "file_extension": ".py",
   "mimetype": "text/x-python",
   "name": "python",
   "nbconvert_exporter": "python",
   "pygments_lexer": "ipython3",
   "version": "3.5.3"
  }
 },
 "nbformat": 4,
 "nbformat_minor": 2
}
