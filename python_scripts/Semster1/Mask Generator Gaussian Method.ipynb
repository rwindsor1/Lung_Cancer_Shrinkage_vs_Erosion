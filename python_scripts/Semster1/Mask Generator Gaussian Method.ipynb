{
 "cells": [
  {
   "cell_type": "markdown",
   "metadata": {},
   "source": [
    "Import modules to deal with data and load up test file."
   ]
  },
  {
   "cell_type": "code",
   "execution_count": 1,
   "metadata": {},
   "outputs": [],
   "source": [
    "import numpy as np\n",
    "import os\n",
    "import nibabel as nib\n",
    "import matplotlib.pyplot as plt\n",
    "\n",
    "datafile = \"F:/fullGTV\"\n",
    "filenames = os.listdir(datafile)\n",
    "file = os.path.join(datafile, filenames[0])\n",
    "img = nib.load(file)\n",
    "img_data = img.get_data() # puts data into format plt can use"
   ]
  },
  {
   "cell_type": "markdown",
   "metadata": {},
   "source": [
    "Show slices of raw data as an image"
   ]
  },
  {
   "cell_type": "code",
   "execution_count": 2,
   "metadata": {},
   "outputs": [
    {
     "data": {
      "image/png": "[encoded data removed]",
      "text/plain": [
       "<matplotlib.figure.Figure at 0x21495f7a780>"
      ]
     },
     "metadata": {},
     "output_type": "display_data"
    }
   ],
   "source": [
    "# function to show slices as an object\n",
    "def show_slice(slice_obj):\n",
    "    # Function to display row of image slices\n",
    "    fig, axes = plt.subplots(1)\n",
    "    axes.imshow(slice_obj, cmap=\"gray\", origin=\"lower\")\n",
    "    \n",
    "scan_slice = img_data[:,:,80]\n",
    "show_slice(img_data[:,:,80]) # use 80 as default slide number for testing\n",
    "plt.show()"
   ]
  },
  {
   "cell_type": "markdown",
   "metadata": {},
   "source": [
    "Get pixels around the tumour in scan slice"
   ]
  },
  {
   "cell_type": "code",
   "execution_count": 3,
   "metadata": {},
   "outputs": [
    {
     "data": {
      "image/png": "[encoded data removed]",
      "text/plain": [
       "<matplotlib.figure.Figure at 0x2148ac47160>"
      ]
     },
     "metadata": {},
     "output_type": "display_data"
    }
   ],
   "source": [
    "from skimage import feature\n",
    "\n",
    "edges = feature.canny(scan_slice,sigma=2)\n",
    "show_slice(edges[190:250,170:230]) # show edges of image\n",
    "plt.show()"
   ]
  },
  {
   "cell_type": "markdown",
   "metadata": {},
   "source": [
    "Now convert edges elements from boolean into a float number (255 if True, 0 if False). Add guassian blur to create a rudimentary mask"
   ]
  },
  {
   "cell_type": "code",
   "execution_count": 4,
   "metadata": {},
   "outputs": [
    {
     "data": {
      "image/png": "[encoded data removed]",
      "text/plain": [
       "<matplotlib.figure.Figure at 0x2148f8be470>"
      ]
     },
     "metadata": {},
     "output_type": "display_data"
    }
   ],
   "source": [
    "from skimage.filters import gaussian\n",
    "\n",
    "mask = gaussian(edges,sigma = 1)\n",
    "show_slice(mask[190:250,170:230])\n",
    "plt.show()\n",
    "mask_mean = mask.mean()"
   ]
  },
  {
   "cell_type": "code",
   "execution_count": 5,
   "metadata": {},
   "outputs": [
    {
     "data": {
      "text/plain": [
       "<matplotlib.figure.Figure at 0x214a42294e0>"
      ]
     },
     "metadata": {},
     "output_type": "display_data"
    },
    {
     "data": {
      "image/png": "[encoded data removed]",
      "text/plain": [
       "<matplotlib.figure.Figure at 0x2149b2d14a8>"
      ]
     },
     "metadata": {},
     "output_type": "display_data"
    }
   ],
   "source": [
    "default_mask = mask\n",
    "plt.clf()\n",
    "cutoff_value = 0.2\n",
    "default_mask[np.where(default_mask>cutoff_value)] = 1\n",
    "default_mask[np.where(default_mask<=cutoff_value)] =0\n",
    "show_slice(default_mask)\n",
    "plt.show()"
   ]
  },
  {
   "cell_type": "code",
   "execution_count": 6,
   "metadata": {},
   "outputs": [
    {
     "name": "stdout",
     "output_type": "stream",
     "text": [
      "1.0\n"
     ]
    },
    {
     "data": {
      "image/png": "[encoded data removed]",
      "text/plain": [
       "<matplotlib.figure.Figure at 0x214a4299dd8>"
      ]
     },
     "metadata": {},
     "output_type": "display_data"
    }
   ],
   "source": [
    "show_slice(default_mask[190:250,170:230])\n",
    "print(default_mask[np.where(default_mask>0)].mean())\n",
    "plt.show()"
   ]
  }
 ],
 "metadata": {
  "kernelspec": {
   "display_name": "Python 3",
   "language": "python",
   "name": "python3"
  },
  "language_info": {
   "codemirror_mode": {
    "name": "ipython",
    "version": 3
   },
   "file_extension": ".py",
   "mimetype": "text/x-python",
   "name": "python",
   "nbconvert_exporter": "python",
   "pygments_lexer": "ipython3",
   "version": "3.5.3"
  }
 },
 "nbformat": 4,
 "nbformat_minor": 2
}
