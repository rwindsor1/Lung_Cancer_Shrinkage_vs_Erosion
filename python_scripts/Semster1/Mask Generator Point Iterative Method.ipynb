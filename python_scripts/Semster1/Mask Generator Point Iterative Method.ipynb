{
 "cells": [
  {
   "cell_type": "markdown",
   "metadata": {},
   "source": [
    "Import modules to deal with data and load up test file."
   ]
  },
  {
   "cell_type": "markdown",
   "metadata": {},
   "source": [
    "Show slices of raw data as an image"
   ]
  },
  {
   "cell_type": "code",
   "execution_count": 2,
   "metadata": {},
   "outputs": [
    {
     "name": "stdout",
     "output_type": "stream",
     "text": [
      "N01_GTVdelin.nii\n",
      "(410, 410, 120)\n"
     ]
    }
   ],
   "source": [
    "import numpy as np\n",
    "import os\n",
    "import nibabel as nib\n",
    "import matplotlib.pyplot as plt\n",
    "import skimage\n",
    "slice_no = 73\n",
    "threshold = 500\n",
    "datafile = \"D:/GTVdelins\"\n",
    "scanFile = \"D:/fullscans/N01/N01_2.nii\"\n",
    "filenames = os.listdir(datafile)\n",
    "file = os.path.join(datafile, filenames[0])\n",
    "print(filenames[0])\n",
    "fullScanImg = nib.load(scanFile)\n",
    "fullScanData = fullScanImg.get_data()\n",
    "img = nib.load(file)\n",
    "img_data = img.get_data() # puts data into format plt can use\n",
    "print(img_data.shape)\n",
    "plt.clf()"
   ]
  },
  {
   "cell_type": "code",
   "execution_count": 8,
   "metadata": {},
   "outputs": [
    {
     "name": "stdout",
     "output_type": "stream",
     "text": [
      "610.553143633\n",
      "(66245,)\n"
     ]
    },
    {
     "data": {
      "image/png": "[encoded data removed]",
      "text/plain": [
       "<matplotlib.figure.Figure at 0x1e209a0d048>"
      ]
     },
     "metadata": {},
     "output_type": "display_data"
    }
   ],
   "source": [
    "# function to show slices as an object\n",
    "def show_slice(slice_obj):\n",
    "    # Function to display row of image slices\n",
    "    fig, axes = plt.subplots(1)\n",
    "    axes.imshow(slice_obj, cmap=\"gray\", origin=\"lower\")\n",
    "img_data2 = np.zeros(img_data.shape)\n",
    "img_data2[np.where(img_data >0)] = fullScanData[np.where(img_data >0)]\n",
    "img_data2[np.where(img_data == 0)] = 0\n",
    "show_slice(img_data2[100:190,180:260,slice_no])\n",
    "print(img_data2[np.where(img_data2>0)].mean())\n",
    "print(img_data2[np.where(img_data2>0)].shape)\n",
    "plt.show()    "
   ]
  },
  {
   "cell_type": "code",
   "execution_count": 9,
   "metadata": {},
   "outputs": [
    {
     "name": "stdout",
     "output_type": "stream",
     "text": [
      "(41791,)\n"
     ]
    },
    {
     "data": {
      "image/png": "[encoded data removed]",
      "text/plain": [
       "<matplotlib.figure.Figure at 0x1e275363d68>"
      ]
     },
     "metadata": {},
     "output_type": "display_data"
    }
   ],
   "source": [
    "img_data3 = img_data2\n",
    "img_data3[np.where(img_data2<threshold)] = 0\n",
    "img_data3[np.where(img_data3>0)] = 1\n",
    "print(img_data3[np.where(img_data3>0)].shape)\n",
    "show_slice(img_data3[100:190,180:260,slice_no])\n",
    "plt.show()  \n",
    "plt.clf()"
   ]
  },
  {
   "cell_type": "code",
   "execution_count": 10,
   "metadata": {},
   "outputs": [
    {
     "name": "stdout",
     "output_type": "stream",
     "text": [
      "0.0\n"
     ]
    },
    {
     "data": {
      "text/plain": [
       "<matplotlib.figure.Figure at 0x1e209b6ff28>"
      ]
     },
     "metadata": {},
     "output_type": "display_data"
    },
    {
     "data": {
      "image/png": "[encoded data removed]",
      "text/plain": [
       "<matplotlib.figure.Figure at 0x1e20009cbe0>"
      ]
     },
     "metadata": {},
     "output_type": "display_data"
    }
   ],
   "source": [
    "plt.clf()\n",
    "img_data = img_data3\n",
    "\n",
    "scan_slice = img_data[:,:,slice_no]\n",
    "show_slice(img_data[100:250,150:250,slice_no]) # use 80 as default slide number for testing\n",
    "print(scan_slice[30,25])\n",
    "plt.show()\n",
    "plt.clf()"
   ]
  },
  {
   "cell_type": "code",
   "execution_count": 13,
   "metadata": {},
   "outputs": [
    {
     "name": "stderr",
     "output_type": "stream",
     "text": [
      "c:\\users\\rhydian\\appdata\\local\\programs\\python\\python35\\lib\\site-packages\\skimage\\morphology\\misc.py:122: UserWarning: Only one label was provided to `remove_small_objects`. Did you mean to use a boolean array?\n",
      "  warn(\"Only one label was provided to `remove_small_objects`. \"\n"
     ]
    },
    {
     "data": {
      "image/png": "[encoded data removed]",
      "text/plain": [
       "<matplotlib.figure.Figure at 0x1e208ce6080>"
      ]
     },
     "metadata": {},
     "output_type": "display_data"
    }
   ],
   "source": [
    "import scipy.ndimage\n",
    "import skimage.morphology\n",
    "for slice_it in range(img_data.shape[2]):\n",
    "    img_data[:,:,slice_it] = scipy.ndimage.binary_fill_holes(img_data[:,:,slice_it])\n",
    "    img_data[:,:,slice_it] = skimage.morphology.remove_small_objects(img_data[:,:,slice_it].astype(bool), min_size=50, connectivity=1, in_place=True)\n",
    "\n",
    "\n",
    "newimg_data = np.zeros(img_data.shape)\n",
    "newimg_data[np.where(img_data == True)] = 255\n",
    "img_data = newimg_data\n",
    "show_slice(img_data[100:190,180:260,slice_no])\n",
    "plt.show()"
   ]
  },
  {
   "cell_type": "markdown",
   "metadata": {},
   "source": [
    "Get pixels around the tumour in scan slice"
   ]
  },
  {
   "cell_type": "code",
   "execution_count": 15,
   "metadata": {},
   "outputs": [
    {
     "name": "stdout",
     "output_type": "stream",
     "text": [
      "True\n"
     ]
    },
    {
     "data": {
      "text/plain": [
       "<matplotlib.figure.Figure at 0x1e2135db940>"
      ]
     },
     "metadata": {},
     "output_type": "display_data"
    },
    {
     "data": {
      "image/png": "[encoded data removed]",
      "text/plain": [
       "<matplotlib.figure.Figure at 0x1e208cd6588>"
      ]
     },
     "metadata": {},
     "output_type": "display_data"
    }
   ],
   "source": [
    "from skimage import feature\n",
    "\n",
    "\n",
    "scan_slice = img_data[100:190,180:260,slice_no]\n",
    "edges = feature.canny(scan_slice,sigma=2)\n",
    "show_slice(edges) # show edges of image\n",
    "print(edges.max())\n",
    "plt.show()\n",
    "plt.clf()"
   ]
  },
  {
   "cell_type": "code",
   "execution_count": 16,
   "metadata": {},
   "outputs": [
    {
     "data": {
      "text/plain": [
       "<matplotlib.figure.Figure at 0x1e208e5c208>"
      ]
     },
     "metadata": {},
     "output_type": "display_data"
    },
    {
     "data": {
      "image/png": "[encoded data removed]",
      "text/plain": [
       "<matplotlib.figure.Figure at 0x1e208ffd240>"
      ]
     },
     "metadata": {},
     "output_type": "display_data"
    }
   ],
   "source": [
    "plt.clf()\n",
    "import skimage.filters\n",
    "import skimage.morphology\n",
    "mask = skimage.filters.rank.maximum(edges,skimage.morphology.disk(2))\n",
    "show_slice(mask)\n",
    "plt.show()"
   ]
  },
  {
   "cell_type": "code",
   "execution_count": null,
   "metadata": {
    "collapsed": true
   },
   "outputs": [],
   "source": []
  }
 ],
 "metadata": {
  "kernelspec": {
   "display_name": "Python 3",
   "language": "python",
   "name": "python3"
  },
  "language_info": {
   "codemirror_mode": {
    "name": "ipython",
    "version": 3
   },
   "file_extension": ".py",
   "mimetype": "text/x-python",
   "name": "python",
   "nbconvert_exporter": "python",
   "pygments_lexer": "ipython3",
   "version": "3.5.3"
  }
 },
 "nbformat": 4,
 "nbformat_minor": 2
}
