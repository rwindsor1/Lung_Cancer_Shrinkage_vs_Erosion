{
 "cells": [
  {
   "cell_type": "code",
   "execution_count": null,
   "metadata": {},
   "outputs": [],
   "source": [
    "import numpy as np\n",
    "import matplotlib.pyplot as plt\n",
    "import nibabel as nib\n",
    "import os\n",
    "\n",
    "inputFile = \"D:/niftyfolder/NSCLC10\"\n",
    "combinedScans = os.listdir(inputFile)\n",
    "print(combinedScans)"
   ]
  },
  {
   "cell_type": "code",
   "execution_count": null,
   "metadata": {},
   "outputs": [],
   "source": [
    "scanPath = os.path.join(inputFile,combinedScans[0])\n",
    "scan = nib.load(scanPath)\n",
    "scanData = scan.get_data()\n",
    "# function to show slices as an object\n",
    "def show_slice(slice_obj):\n",
    "    # Function to display row of image slices\n",
    "    fig, axes = plt.subplots(1)\n",
    "    axes.imshow(slice_obj, cmap=\"gray\", origin=\"lower\")\n",
    "    \n",
    "show_slice(scanData[:,:,50])\n",
    "\n",
    "plt.show()"
   ]
  },
  {
   "cell_type": "code",
   "execution_count": null,
   "metadata": {
    "scrolled": true
   },
   "outputs": [],
   "source": [
    "pixelVals = scanData[np.where(scanData>0)]\n",
    "values, bins, _ = plt.hist(pixelVals, bins = 100,normed=True)\n",
    "plt.xlabel(\"HU\")\n",
    "plt.ylabel(\"Frequency\")\n",
    "plt.show()"
   ]
  },
  {
   "cell_type": "code",
   "execution_count": null,
   "metadata": {},
   "outputs": [],
   "source": [
    "for scan in combinedScans:\n",
    "    fig,ax = plt.subplots(1)\n",
    "    scanData = nib.load(os.path.join(inputFile,scan)).get_data()\n",
    "    pixelVals = scanData[np.where(scanData>0)]\n",
    "    values, bins, _ = plt.hist(pixelVals, bins = 100,normed=True)\n",
    "    ax.set_ylim(0,0.004)\n",
    "    ax.set_xlim(0,1200)\n",
    "    plt.xlabel(\"HU\")\n",
    "    plt.ylabel(\"Frequency\")\n",
    "    plt.tight_layout()\n",
    "    plt.savefig(os.path.join(inputFile,scan.replace(\"nii\",\"png\")))\n",
    "    plt.clf()"
   ]
  },
  {
   "cell_type": "code",
   "execution_count": null,
   "metadata": {
    "collapsed": true
   },
   "outputs": [],
   "source": [
    "for scan in combinedScans:\n",
    "    fig,ax = plt.subplots(1)\n",
    "    scanData = nib.load(os.path.join(inputFile,scan)).get_data()\n",
    "    pixelVals = scanData[np.where(scanData>0)]\n",
    "    values, bins, _ = plt.hist(pixelVals, bins = 100,normed=True)\n",
    "    ax.set_ylim(0,0.004)\n",
    "    ax.set_xlim(0,1200)\n",
    "    plt.xlabel(\"HU\")\n",
    "    plt.ylabel(\"Frequency\")\n",
    "    plt.tight_layout()\n",
    "    plt.savefig(os.path.join(inputFile,scan.replace(\"nii\",\"png\")))\n",
    "    plt.clf()"
   ]
  }
 ],
 "metadata": {
  "kernelspec": {
   "display_name": "Python 3",
   "language": "python",
   "name": "python3"
  },
  "language_info": {
   "codemirror_mode": {
    "name": "ipython",
    "version": 3
   },
   "file_extension": ".py",
   "mimetype": "text/x-python",
   "name": "python",
   "nbconvert_exporter": "python",
   "pygments_lexer": "ipython3",
   "version": "3.5.3"
  }
 },
 "nbformat": 4,
 "nbformat_minor": 2
}
