{
 "cells": [
  {
   "cell_type": "code",
   "execution_count": 18,
   "metadata": {},
   "outputs": [
    {
     "name": "stdout",
     "output_type": "stream",
     "text": [
      "0\n"
     ]
    }
   ],
   "source": [
    "import numpy as np\n",
    "\n",
    "\n",
    "arr1 = np.load(\"C:/Users/Rhydian/Documents/Work/MPhysProject/nparrays/inside/NSCLC10scan3NSCLC10_.npy\")\n",
    "arr2 = np.load(\"C:/Users/Rhydian/Documents/Work/MPhysProject/nparrays/inside/NSCLC10scan4NSCLC10_.npy\")\n",
    "\n",
    "print(np.sum(np.invert(np.isclose(arr2,arr2,1,equal_nan=True))))"
   ]
  }
 ],
 "metadata": {
  "kernelspec": {
   "display_name": "Python 3",
   "language": "python",
   "name": "python3"
  },
  "language_info": {
   "codemirror_mode": {
    "name": "ipython",
    "version": 3
   },
   "file_extension": ".py",
   "mimetype": "text/x-python",
   "name": "python",
   "nbconvert_exporter": "python",
   "pygments_lexer": "ipython3",
   "version": "3.5.3"
  }
 },
 "nbformat": 4,
 "nbformat_minor": 2
}
