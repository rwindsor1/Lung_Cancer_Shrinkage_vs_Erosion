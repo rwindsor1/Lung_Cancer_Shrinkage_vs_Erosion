{
 "cells": [
  {
   "cell_type": "code",
   "execution_count": 14,
   "metadata": {},
   "outputs": [
    {
     "name": "stdout",
     "output_type": "stream",
     "text": [
      "['NSCLC1__registered_OARsfullscan2.nii', 'NSCLC1__registered_OARsfullscan3.nii', 'NSCLC1__registered_OARsfullscan4.nii', 'NSCLC1__registered_OARsfullscan5.nii', 'NSCLC1__registered_OARsfullscan6.nii', 'NSCLC1__registered_OARsfullscan7.nii']\n"
     ]
    }
   ],
   "source": [
    "import numpy as np\n",
    "import matplotlib.pyplot as plt\n",
    "import nibabel as nib\n",
    "import os\n",
    "\n",
    "inputFile = \"D:/niftyfolder/NSCLC1_\"\n",
    "combinedScans = os.listdir(inputFile)\n",
    "print(combinedScans)"
   ]
  },
  {
   "cell_type": "code",
   "execution_count": 15,
   "metadata": {},
   "outputs": [
    {
     "data": {
      "image/png": "[encoded data removed]",
      "text/plain": [
       "<matplotlib.figure.Figure at 0x1cd5f6d77b8>"
      ]
     },
     "metadata": {},
     "output_type": "display_data"
    }
   ],
   "source": [
    "scanPath = os.path.join(inputFile,combinedScans[0])\n",
    "scan = nib.load(scanPath)\n",
    "scanData = scan.get_data()\n",
    "# function to show slices as an object\n",
    "def show_slice(slice_obj):\n",
    "    # Function to display row of image slices\n",
    "    fig, axes = plt.subplots(1)\n",
    "    axes.imshow(slice_obj, cmap=\"gray\", origin=\"lower\")\n",
    "    \n",
    "show_slice(scanData[:,:,50])\n",
    "\n",
    "plt.show()"
   ]
  },
  {
   "cell_type": "code",
   "execution_count": 17,
   "metadata": {},
   "outputs": [
    {
     "data": {
      "image/png": "[encoded data removed]",
      "text/plain": [
       "<matplotlib.figure.Figure at 0x1cd5f0ddc50>"
      ]
     },
     "metadata": {},
     "output_type": "display_data"
    }
   ],
   "source": [
    "pixelVals = scanData[np.where(scanData>0)]\n",
    "values, bins, _ = plt.hist(pixelVals, bins = 200)\n",
    "plt.show()"
   ]
  },
  {
   "cell_type": "code",
   "execution_count": null,
   "metadata": {
    "collapsed": true
   },
   "outputs": [],
   "source": []
  }
 ],
 "metadata": {
  "kernelspec": {
   "display_name": "Python 3",
   "language": "python",
   "name": "python3"
  },
  "language_info": {
   "codemirror_mode": {
    "name": "ipython",
    "version": 3
   },
   "file_extension": ".py",
   "mimetype": "text/x-python",
   "name": "python",
   "nbconvert_exporter": "python",
   "pygments_lexer": "ipython3",
   "version": "3.5.3"
  }
 },
 "nbformat": 4,
 "nbformat_minor": 2
}
