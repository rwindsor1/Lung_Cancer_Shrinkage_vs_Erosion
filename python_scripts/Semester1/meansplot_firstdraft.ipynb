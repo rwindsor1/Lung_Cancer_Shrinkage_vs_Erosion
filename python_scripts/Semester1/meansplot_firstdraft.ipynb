{
 "cells": [
  {
   "cell_type": "markdown",
   "metadata": {},
   "source": [
    "# Visual Representation of Data"
   ]
  },
  {
   "cell_type": "code",
   "execution_count": 31,
   "metadata": {},
   "outputs": [
    {
     "name": "stdout",
     "output_type": "stream",
     "text": [
      "Populating the interactive namespace from numpy and matplotlib\n",
      "['/home/george/mphysworkspace/NSCLC1_registered_OARs.txt']\n",
      "['2', '806.86604372792601', '90.805560551809236', '661.0031034317484', '944.22157689144751', '4.3589648431869676\\r\\n']\n",
      "['3', '797.40979660058531', '106.33879528308421', '600.16360592532465', '940.03437158842803', '-595.72723372292069\\r\\n']\n",
      "['4', '788.20613562279266', '111.37542954843575', '567.16051603618428', '928.11649053423241', '-749.67441031385681\\r\\n']\n",
      "['5', '779.43677540942963', '114.99169252385737', '574.93073219476742', '944.36828613281261', '-440.91592342257889\\r\\n']\n",
      "['6', '801.75081984191297', '96.356364469575766', '620.34339126275506', '932.70385742187511', '-485.40496590729782\\r\\n']\n",
      "['7', '771.69675336554758', '123.41890775673998', '552.22719254032268', '944.56640625000011', '-552.92419525147488\\r\\n']\n"
     ]
    }
   ],
   "source": [
    "import matplotlib.pyplot as plt\n",
    "import os\n",
    "import numpy as np\n",
    "%pylab inline \n",
    "\n",
    "data_root = 'C:/Users/Rhydian/Documents/Work/MPhys Project/project data textfiles'\n",
    "\n",
    "file_paths = []\n",
    "\n",
    "for folder, subs, files in os.walk(data_root):\n",
    "    for filename in files:\n",
    "        file_paths.append(os.path.abspath(os.path.join(folder, filename)))\n",
    "        \n",
    "print file_paths\n",
    "\n",
    "a=0\n",
    "\n",
    "\n",
    "mightymatrix = []\n",
    "\n",
    "try:\n",
    "    \n",
    "    with open(file_paths[a]) as matrix:\n",
    "        \n",
    "        \n",
    "        \n",
    "\n",
    "        for l in matrix:\n",
    "            #l.replace('\\t', ',')\n",
    "            #l.replace('\\r\\n','')\n",
    "            bit = l.split('\\t')\n",
    "            templine = []\n",
    "            i=0\n",
    "            while i < len(bit):\n",
    "                templine.append(bit[i])\n",
    "                i+=1\n",
    "                \n",
    "            print(templine)\n",
    "            mightymatrix.append(templine)\n",
    "        \n",
    "\n",
    "except Exception as e:\n",
    "\n",
    "    print 'Oops... Error encountered'\n",
    "    print e"
   ]
  },
  {
   "cell_type": "code",
   "execution_count": 32,
   "metadata": {},
   "outputs": [
    {
     "name": "stdout",
     "output_type": "stream",
     "text": [
      "[['2', '806.86604372792601', '90.805560551809236', '661.0031034317484', '944.22157689144751', '4.3589648431869676\\r\\n'], ['3', '797.40979660058531', '106.33879528308421', '600.16360592532465', '940.03437158842803', '-595.72723372292069\\r\\n'], ['4', '788.20613562279266', '111.37542954843575', '567.16051603618428', '928.11649053423241', '-749.67441031385681\\r\\n'], ['5', '779.43677540942963', '114.99169252385737', '574.93073219476742', '944.36828613281261', '-440.91592342257889\\r\\n'], ['6', '801.75081984191297', '96.356364469575766', '620.34339126275506', '932.70385742187511', '-485.40496590729782\\r\\n'], ['7', '771.69675336554758', '123.41890775673998', '552.22719254032268', '944.56640625000011', '-552.92419525147488\\r\\n']]\n"
     ]
    }
   ],
   "source": [
    "print(mightymatrix)"
   ]
  },
  {
   "cell_type": "code",
   "execution_count": 47,
   "metadata": {},
   "outputs": [
    {
     "data": {
      "image/png": "[encoded data removed]",
      "text/plain": [
       "<matplotlib.figure.Figure at 0x7f3a8ea09250>"
      ]
     },
     "metadata": {},
     "output_type": "display_data"
    }
   ],
   "source": [
    "filename = file_paths[a].replace('/home/george/mphysworkspace/initialfiles','').replace('.txt','')\n",
    "picturename = file_paths[a].replace('/initialfiles', '/picturefiles').replace('.txt','.png')\n",
    "fig = plt.figure(figsize=(12,6))\n",
    "ax = fig.gca()\n",
    "means = []\n",
    "stdev = []\n",
    "scan = []\n",
    "j=0\n",
    "while j<len(mightymatrix[0]):\n",
    "    scan.append(float(mightymatrix[j][0]))\n",
    "    means.append(float(mightymatrix[j][1]))\n",
    "    stdev.append(float(mightymatrix[j][2]))\n",
    "    j+=1\n",
    "    \n",
    "plt.scatter(scan,means)\n",
    "#plt.errorbar(scan, means, yerr = stdev, linestyle=\"None\")\n",
    "\n",
    "plt.title('Scan Number vs Mean HU for file %s' %filename, fontsize = 20)\n",
    "plt.xlabel('Scan Number', fontsize = 18)\n",
    "plt.ylabel('Mean HU',fontsize = 18)\n",
    "\n",
    "plt.grid()\n",
    "plt.show()\n",
    "fig.savefig(picturename)"
   ]
  },
  {
   "cell_type": "code",
   "execution_count": null,
   "metadata": {
    "collapsed": true
   },
   "outputs": [],
   "source": [
    "a=0\n",
    "\n",
    "while a < len(file_paths):\n",
    "    mightymatrix = []\n",
    "\n",
    "    try:\n",
    "\n",
    "        with open(file_paths[a]) as matrix:\n",
    "\n",
    "\n",
    "\n",
    "\n",
    "            for l in matrix:\n",
    "                #l.replace('\\t', ',')\n",
    "                #l.replace('\\r\\n','')\n",
    "                bit = l.split('\\t')\n",
    "                templine = []\n",
    "                i=0\n",
    "                while i < len(bit):\n",
    "                    templine.append(bit[i])\n",
    "                    i+=1\n",
    "\n",
    "                print(templine)\n",
    "                mightymatrix.append(templine)\n",
    "\n",
    "\n",
    "    except Exception as e:\n",
    "\n",
    "        print 'Oops... Error encountered'\n",
    "        print e\n",
    "        \n",
    "        \n",
    "    filename = file_paths[a].replace(data_root,'').replace('.txt','')\n",
    "    picturename = file_paths[a].replace('/project data textfiles', '/visuals/MeanHUGraphs').replace('.txt','.png')\n",
    "    fig = plt.figure(figsize=(12,6))\n",
    "    ax = fig.gca()\n",
    "    means = []\n",
    "    stdev = []\n",
    "    scan = []\n",
    "    j=0\n",
    "    while j<len(mightymatrix[0]):\n",
    "        scan.append(float(mightymatrix[j][0]))\n",
    "        means.append(float(mightymatrix[j][1]))\n",
    "        stdev.append(float(mightymatrix[j][2]))\n",
    "        j+=1\n",
    "\n",
    "    plt.scatter(scan,means)\n",
    "    #plt.errorbar(scan, means, yerr = stdev, linestyle=\"None\")\n",
    "\n",
    "    plt.title('Scan Number vs Mean HU for file %s' %filename, fontsize = 20)\n",
    "    plt.xlabel('Scan Number', fontsize = 18)\n",
    "    plt.ylabel('Mean HU',fontsize = 18)\n",
    "\n",
    "    plt.grid()\n",
    "    #plt.show()\n",
    "    fig.savefig(picturename)\n",
    "    \n",
    "    a+=1"
   ]
  }
 ],
 "metadata": {
  "anaconda-cloud": {},
  "kernelspec": {
   "display_name": "Python 3",
   "language": "python",
   "name": "python3"
  },
  "language_info": {
   "codemirror_mode": {
    "name": "ipython",
    "version": 3
   },
   "file_extension": ".py",
   "mimetype": "text/x-python",
   "name": "python",
   "nbconvert_exporter": "python",
   "pygments_lexer": "ipython3",
   "version": "3.5.3"
  }
 },
 "nbformat": 4,
 "nbformat_minor": 1
}
