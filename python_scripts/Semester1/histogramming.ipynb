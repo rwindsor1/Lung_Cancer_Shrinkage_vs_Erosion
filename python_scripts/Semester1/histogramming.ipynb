{
 "cells": [
  {
   "cell_type": "markdown",
   "metadata": {},
   "source": [
    "# HISTOGRAMS"
   ]
  },
  {
   "cell_type": "code",
   "execution_count": 2,
   "metadata": {},
   "outputs": [
    {
     "name": "stdout",
     "output_type": "stream",
     "text": [
      "Populating the interactive namespace from numpy and matplotlib\n",
      "['D:\\\\Dropbox\\\\MPhys Lungs Shared Folder\\\\datadump\\\\fullguys\\\\NSCLC1', 'D:\\\\Dropbox\\\\MPhys Lungs Shared Folder\\\\datadump\\\\fullguys\\\\NSCLC10', 'D:\\\\Dropbox\\\\MPhys Lungs Shared Folder\\\\datadump\\\\fullguys\\\\NSCLC11', 'D:\\\\Dropbox\\\\MPhys Lungs Shared Folder\\\\datadump\\\\fullguys\\\\NSCLC16', 'D:\\\\Dropbox\\\\MPhys Lungs Shared Folder\\\\datadump\\\\fullguys\\\\NSCLC2', 'D:\\\\Dropbox\\\\MPhys Lungs Shared Folder\\\\datadump\\\\fullguys\\\\NSCLC5', 'D:\\\\Dropbox\\\\MPhys Lungs Shared Folder\\\\datadump\\\\fullguys\\\\NSCLC6', 'D:\\\\Dropbox\\\\MPhys Lungs Shared Folder\\\\datadump\\\\fullguys\\\\NSCLC7', 'D:\\\\Dropbox\\\\MPhys Lungs Shared Folder\\\\datadump\\\\fullguys\\\\SABR1', 'D:\\\\Dropbox\\\\MPhys Lungs Shared Folder\\\\datadump\\\\fullguys\\\\SABR10', 'D:\\\\Dropbox\\\\MPhys Lungs Shared Folder\\\\datadump\\\\fullguys\\\\SABR2', 'D:\\\\Dropbox\\\\MPhys Lungs Shared Folder\\\\datadump\\\\fullguys\\\\SABR3', 'D:\\\\Dropbox\\\\MPhys Lungs Shared Folder\\\\datadump\\\\fullguys\\\\SABR4', 'D:\\\\Dropbox\\\\MPhys Lungs Shared Folder\\\\datadump\\\\fullguys\\\\SABR5', 'D:\\\\Dropbox\\\\MPhys Lungs Shared Folder\\\\datadump\\\\fullguys\\\\SABR6', 'D:\\\\Dropbox\\\\MPhys Lungs Shared Folder\\\\datadump\\\\fullguys\\\\SABR7', 'D:\\\\Dropbox\\\\MPhys Lungs Shared Folder\\\\datadump\\\\fullguys\\\\SABR8', 'D:\\\\Dropbox\\\\MPhys Lungs Shared Folder\\\\datadump\\\\fullguys\\\\SABR9']\n"
     ]
    }
   ],
   "source": [
    "import os\n",
    "\n",
    "import numpy as np\n",
    "import matplotlib.pyplot as plt\n",
    "import matplotlib as mpl\n",
    "%matplotlib inline\n",
    "%pylab inline\n",
    "import pandas as pd\n",
    "#from mpl_toolkits.mplot3d import Axes3D\n",
    "import seaborn as sns\n",
    "import imageio\n",
    "imageio.plugins.ffmpeg.download()\n",
    "\n",
    "\n",
    "data_root = 'D:/Dropbox/MPhys Lungs Shared Folder/datadump/fullguys'\n",
    "\n",
    "patient_names = []\n",
    "\n",
    "for folder, subs, files in os.walk(data_root):\n",
    "    for name in subs:\n",
    "        patient_names.append(os.path.abspath(os.path.join(folder, name)))\n",
    "        \n",
    "print(patient_names)"
   ]
  },
  {
   "cell_type": "code",
   "execution_count": 3,
   "metadata": {},
   "outputs": [
    {
     "name": "stdout",
     "output_type": "stream",
     "text": [
      "['D:\\\\Dropbox\\\\MPhys Lungs Shared Folder\\\\datadump\\\\fullguys\\\\NSCLC6\\\\NSCLC6_registered_OARsfullscan2.nii.csv', 'D:\\\\Dropbox\\\\MPhys Lungs Shared Folder\\\\datadump\\\\fullguys\\\\NSCLC6\\\\NSCLC6_registered_OARsfullscan3.nii.csv']\n"
     ]
    }
   ],
   "source": [
    "patient_data = []\n",
    "pvar=0 \n",
    "while pvar<len(patient_names):\n",
    "    templine = []\n",
    "    for folder, subs, files in os.walk(patient_names[pvar]):\n",
    "        for name in files:\n",
    "            templine.append(os.path.abspath(os.path.join(folder, name)))\n",
    "    patient_data.append(templine)\n",
    "    pvar+=1\n",
    "    \n",
    "print(patient_data[6])"
   ]
  },
  {
   "cell_type": "code",
   "execution_count": 13,
   "metadata": {},
   "outputs": [
    {
     "name": "stdout",
     "output_type": "stream",
     "text": [
      "5\n",
      "0\n",
      "3\n",
      "4\n",
      "5\n",
      "5\n",
      "1\n",
      "6\n",
      "4\n",
      "2\n",
      "2\n",
      "4\n",
      "4\n",
      "3\n",
      "5\n",
      "5\n",
      "0\n",
      "7\n"
     ]
    }
   ],
   "source": [
    "#patient_contains names of all scans\n",
    "\n",
    "pvar = 0 #scan number\n",
    "while pvar<len(patient_data):\n",
    "    bigmatrix = []\n",
    "    i=0\n",
    "    while i < len(patient_data[pvar]):\n",
    "        with open(patient_data[pvar][i],\"r\") as file:\n",
    "            datamatrix = []\n",
    "            for l in file:\n",
    "                templine = []\n",
    "                l.replace(\"\\n\",\"\")\n",
    "                bit = l.split(\",\")\n",
    "\n",
    "                datamatrix.append([int(bit[0]),int(bit[1]),\n",
    "                                 int(bit[2]),int(bit[3].replace('\\n',''))])\n",
    "\n",
    "        bigmatrix.append(datamatrix) # each element of bigmatrix contains an entire scan\n",
    "        i+=1\n",
    "\n",
    "    bigmatrix = np.array(bigmatrix)\n",
    "    #print(len(bigmatrix))\n",
    "    xvalmatrix = []\n",
    "    yvalmatrix = []\n",
    "    zvalmatrix = []\n",
    "    pixvalmatrix= []\n",
    "    i=0\n",
    "    j=0\n",
    "    while i<len(patient_data[pvar]):\n",
    "        xvals, yvals, zvals, pixvals = [],[],[],[]\n",
    "        while j < len(bigmatrix[0]):\n",
    "            xvals.append(bigmatrix[i][j][0])\n",
    "            yvals.append(bigmatrix[i][j][1])\n",
    "            zvals.append(bigmatrix[i][j][2])\n",
    "            pixvals.append(bigmatrix[i][j][3])\n",
    "            j+=1\n",
    "        xvalmatrix.append(xvals)\n",
    "        yvalmatrix.append(yvals)\n",
    "        zvalmatrix.append(zvals)\n",
    "        pixvalmatrix.append(pixvals)\n",
    "        i+=1\n",
    "\n",
    "    scanlist = []\n",
    "    xlist = []\n",
    "    ylist = []\n",
    "    zlist =[]\n",
    "    pixlist = []\n",
    "\n",
    "    i=0\n",
    "    while i<len(bigmatrix):\n",
    "\n",
    "        for element in bigmatrix[i]:\n",
    "            scanlist.append(i) # contains index of scan number\n",
    "            xlist.append(element[0])\n",
    "            ylist.append(element[1])\n",
    "            zlist.append(element[2])\n",
    "            pixlist.append(element[3])\n",
    "\n",
    "        i+=1\n",
    "\n",
    "        adict = {\n",
    "            'Scan':scanlist,\n",
    "            'x' : xlist,\n",
    "            'y' : ylist,\n",
    "            'z' : zlist,\n",
    "            'pix' : pixlist\n",
    "        }\n",
    "\n",
    "    df = pd.DataFrame(adict)\n",
    "    print(df.loc[df[\"Scan\"].idxmax()].Scan)\n",
    "    \"\"\"\n",
    "    sns.set(color_codes=True)\n",
    "    ax = sns.distplot(df[\"pix\"])\n",
    "    sns.despine()\n",
    "    pname = patient_names[pvar].replace(data_root.replace('/','\\\\'), '')\n",
    "    ax.set_title('Boxplot for ' + pname.replace('\\\\',''),fontsize=20,color=\"r\",alpha=0.5)\n",
    "    ax.set(xlabel='Pixel value', ylabel='Pixel count')\n",
    "    filename = data_root + '\\\\' + pname + 'boxes.png'\n",
    "    savefig(filename)\n",
    "    plt.show()\n",
    "    plt.close()\n",
    "    \"\"\"\n",
    "    \n",
    "    pvar+=1"
   ]
  },
  {
   "cell_type": "code",
   "execution_count": 6,
   "metadata": {},
   "outputs": [
    {
     "name": "stderr",
     "output_type": "stream",
     "text": [
      "c:\\users\\rhydian\\appdata\\local\\programs\\python\\python35\\lib\\site-packages\\seaborn\\distributions.py:191: RuntimeWarning: Mean of empty slice.\n",
      "  line, = ax.plot(a.mean(), 0)\n",
      "c:\\users\\rhydian\\appdata\\local\\programs\\python\\python35\\lib\\site-packages\\numpy\\core\\_methods.py:80: RuntimeWarning: invalid value encountered in double_scalars\n",
      "  ret = ret.dtype.type(ret / rcount)\n"
     ]
    },
    {
     "ename": "ZeroDivisionError",
     "evalue": "float division by zero",
     "output_type": "error",
     "traceback": [
      "\u001b[1;31m---------------------------------------------------------------------------\u001b[0m",
      "\u001b[1;31mZeroDivisionError\u001b[0m                         Traceback (most recent call last)",
      "\u001b[1;32m<ipython-input-6-749b46a8d827>\u001b[0m in \u001b[0;36m<module>\u001b[1;34m()\u001b[0m\n\u001b[0;32m      1\u001b[0m \u001b[0msns\u001b[0m\u001b[1;33m.\u001b[0m\u001b[0mset\u001b[0m\u001b[1;33m(\u001b[0m\u001b[0mcolor_codes\u001b[0m\u001b[1;33m=\u001b[0m\u001b[1;32mTrue\u001b[0m\u001b[1;33m)\u001b[0m\u001b[1;33m\u001b[0m\u001b[0m\n\u001b[1;32m----> 2\u001b[1;33m \u001b[0max\u001b[0m \u001b[1;33m=\u001b[0m \u001b[0msns\u001b[0m\u001b[1;33m.\u001b[0m\u001b[0mdistplot\u001b[0m\u001b[1;33m(\u001b[0m\u001b[0mpixvals\u001b[0m\u001b[1;33m,\u001b[0m \u001b[0mkde\u001b[0m\u001b[1;33m=\u001b[0m\u001b[1;32mFalse\u001b[0m\u001b[1;33m,\u001b[0m \u001b[0mrug\u001b[0m\u001b[1;33m=\u001b[0m\u001b[1;32mTrue\u001b[0m\u001b[1;33m)\u001b[0m\u001b[1;33m\u001b[0m\u001b[0m\n\u001b[0m\u001b[0;32m      3\u001b[0m \u001b[0msns\u001b[0m\u001b[1;33m.\u001b[0m\u001b[0mdespine\u001b[0m\u001b[1;33m(\u001b[0m\u001b[1;33m)\u001b[0m\u001b[1;33m\u001b[0m\u001b[0m\n\u001b[0;32m      4\u001b[0m \u001b[0mpatientname\u001b[0m \u001b[1;33m=\u001b[0m \u001b[0mfile_paths\u001b[0m\u001b[1;33m[\u001b[0m\u001b[1;36m0\u001b[0m\u001b[1;33m]\u001b[0m\u001b[1;33m.\u001b[0m\u001b[0mreplace\u001b[0m\u001b[1;33m(\u001b[0m\u001b[0mdata_root\u001b[0m\u001b[1;33m.\u001b[0m\u001b[0mreplace\u001b[0m\u001b[1;33m(\u001b[0m\u001b[1;34m'/'\u001b[0m\u001b[1;33m,\u001b[0m\u001b[1;34m'\\\\'\u001b[0m\u001b[1;33m)\u001b[0m\u001b[1;33m,\u001b[0m\u001b[1;34m''\u001b[0m\u001b[1;33m)\u001b[0m\u001b[1;33m.\u001b[0m\u001b[0mreplace\u001b[0m\u001b[1;33m(\u001b[0m\u001b[1;34m'_registered_OARsmask.nii.csv'\u001b[0m\u001b[1;33m,\u001b[0m\u001b[1;34m''\u001b[0m\u001b[1;33m)\u001b[0m\u001b[1;33m\u001b[0m\u001b[0m\n\u001b[0;32m      5\u001b[0m \u001b[0mprint\u001b[0m\u001b[1;33m(\u001b[0m\u001b[0mpatientname\u001b[0m\u001b[1;33m)\u001b[0m\u001b[1;33m\u001b[0m\u001b[0m\n",
      "\u001b[1;32mc:\\users\\rhydian\\appdata\\local\\programs\\python\\python35\\lib\\site-packages\\seaborn\\distributions.py\u001b[0m in \u001b[0;36mdistplot\u001b[1;34m(a, bins, hist, kde, rug, fit, hist_kws, kde_kws, rug_kws, fit_kws, color, vertical, norm_hist, axlabel, label, ax)\u001b[0m\n\u001b[0;32m    206\u001b[0m     \u001b[1;32mif\u001b[0m \u001b[0mhist\u001b[0m\u001b[1;33m:\u001b[0m\u001b[1;33m\u001b[0m\u001b[0m\n\u001b[0;32m    207\u001b[0m         \u001b[1;32mif\u001b[0m \u001b[0mbins\u001b[0m \u001b[1;32mis\u001b[0m \u001b[1;32mNone\u001b[0m\u001b[1;33m:\u001b[0m\u001b[1;33m\u001b[0m\u001b[0m\n\u001b[1;32m--> 208\u001b[1;33m             \u001b[0mbins\u001b[0m \u001b[1;33m=\u001b[0m \u001b[0mmin\u001b[0m\u001b[1;33m(\u001b[0m\u001b[0m_freedman_diaconis_bins\u001b[0m\u001b[1;33m(\u001b[0m\u001b[0ma\u001b[0m\u001b[1;33m)\u001b[0m\u001b[1;33m,\u001b[0m \u001b[1;36m50\u001b[0m\u001b[1;33m)\u001b[0m\u001b[1;33m\u001b[0m\u001b[0m\n\u001b[0m\u001b[0;32m    209\u001b[0m         \u001b[0mhist_kws\u001b[0m\u001b[1;33m.\u001b[0m\u001b[0msetdefault\u001b[0m\u001b[1;33m(\u001b[0m\u001b[1;34m\"alpha\"\u001b[0m\u001b[1;33m,\u001b[0m \u001b[1;36m0.4\u001b[0m\u001b[1;33m)\u001b[0m\u001b[1;33m\u001b[0m\u001b[0m\n\u001b[0;32m    210\u001b[0m         \u001b[0mhist_kws\u001b[0m\u001b[1;33m.\u001b[0m\u001b[0msetdefault\u001b[0m\u001b[1;33m(\u001b[0m\u001b[1;34m\"normed\"\u001b[0m\u001b[1;33m,\u001b[0m \u001b[0mnorm_hist\u001b[0m\u001b[1;33m)\u001b[0m\u001b[1;33m\u001b[0m\u001b[0m\n",
      "\u001b[1;32mc:\\users\\rhydian\\appdata\\local\\programs\\python\\python35\\lib\\site-packages\\seaborn\\distributions.py\u001b[0m in \u001b[0;36m_freedman_diaconis_bins\u001b[1;34m(a)\u001b[0m\n\u001b[0;32m     27\u001b[0m     \u001b[1;31m# From http://stats.stackexchange.com/questions/798/\u001b[0m\u001b[1;33m\u001b[0m\u001b[1;33m\u001b[0m\u001b[0m\n\u001b[0;32m     28\u001b[0m     \u001b[0ma\u001b[0m \u001b[1;33m=\u001b[0m \u001b[0mnp\u001b[0m\u001b[1;33m.\u001b[0m\u001b[0masarray\u001b[0m\u001b[1;33m(\u001b[0m\u001b[0ma\u001b[0m\u001b[1;33m)\u001b[0m\u001b[1;33m\u001b[0m\u001b[0m\n\u001b[1;32m---> 29\u001b[1;33m     \u001b[0mh\u001b[0m \u001b[1;33m=\u001b[0m \u001b[1;36m2\u001b[0m \u001b[1;33m*\u001b[0m \u001b[0miqr\u001b[0m\u001b[1;33m(\u001b[0m\u001b[0ma\u001b[0m\u001b[1;33m)\u001b[0m \u001b[1;33m/\u001b[0m \u001b[1;33m(\u001b[0m\u001b[0mlen\u001b[0m\u001b[1;33m(\u001b[0m\u001b[0ma\u001b[0m\u001b[1;33m)\u001b[0m \u001b[1;33m**\u001b[0m \u001b[1;33m(\u001b[0m\u001b[1;36m1\u001b[0m \u001b[1;33m/\u001b[0m \u001b[1;36m3\u001b[0m\u001b[1;33m)\u001b[0m\u001b[1;33m)\u001b[0m\u001b[1;33m\u001b[0m\u001b[0m\n\u001b[0m\u001b[0;32m     30\u001b[0m     \u001b[1;31m# fall back to sqrt(a) bins if iqr is 0\u001b[0m\u001b[1;33m\u001b[0m\u001b[1;33m\u001b[0m\u001b[0m\n\u001b[0;32m     31\u001b[0m     \u001b[1;32mif\u001b[0m \u001b[0mh\u001b[0m \u001b[1;33m==\u001b[0m \u001b[1;36m0\u001b[0m\u001b[1;33m:\u001b[0m\u001b[1;33m\u001b[0m\u001b[0m\n",
      "\u001b[1;31mZeroDivisionError\u001b[0m: float division by zero"
     ]
    },
    {
     "data": {
      "image/png": "[encoded data removed]",
      "text/plain": [
       "<matplotlib.figure.Figure at 0x19880029860>"
      ]
     },
     "metadata": {},
     "output_type": "display_data"
    }
   ],
   "source": [
    "sns.set(color_codes=True)\n",
    "ax = sns.distplot(pixvals, kde=False, rug=True)\n",
    "sns.despine()\n",
    "patientname = file_paths[0].replace(data_root.replace('/','\\\\'),'').replace('_registered_OARsmask.nii.csv','')\n",
    "print(patientname)\n",
    "ax.set_title('Histogram of Pixel Values: Patient ' + patientname.replace('\\\\',''),fontsize=20,color=\"r\",alpha=0.5)\n",
    "ax.set(xlabel='Pixel Values', ylabel='Frequency')\n",
    "plt.show()\n",
    "histfilename = data_root + patientname + 'histogram.png'\n",
    "savefig(histfilename)"
   ]
  }
 ],
 "metadata": {
  "kernelspec": {
   "display_name": "Python 3",
   "language": "python",
   "name": "python3"
  },
  "language_info": {
   "codemirror_mode": {
    "name": "ipython",
    "version": 3
   },
   "file_extension": ".py",
   "mimetype": "text/x-python",
   "name": "python",
   "nbconvert_exporter": "python",
   "pygments_lexer": "ipython3",
   "version": "3.5.3"
  }
 },
 "nbformat": 4,
 "nbformat_minor": 2
}
