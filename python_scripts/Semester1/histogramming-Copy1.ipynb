{
 "cells": [
  {
   "cell_type": "markdown",
   "metadata": {},
   "source": [
    "# HISTOGRAMS FOR ALL"
   ]
  },
  {
   "cell_type": "code",
   "execution_count": 3,
   "metadata": {},
   "outputs": [
    {
     "name": "stdout",
     "output_type": "stream",
     "text": [
      "Populating the interactive namespace from numpy and matplotlib\n"
     ]
    },
    {
     "name": "stderr",
     "output_type": "stream",
     "text": [
      "c:\\users\\rhydian\\appdata\\local\\programs\\python\\python35\\lib\\site-packages\\IPython\\core\\magics\\pylab.py:160: UserWarning: pylab import has clobbered these variables: ['flag']\n",
      "`%matplotlib` prevents importing * from pylab and numpy\n",
      "  \"\\n`%matplotlib` prevents importing * from pylab and numpy\"\n"
     ]
    },
    {
     "name": "stdout",
     "output_type": "stream",
     "text": [
      "['D:\\\\Dropbox\\\\MPhys Lungs Shared Folder\\\\datadump\\\\fullguys\\\\NSCLC1', 'D:\\\\Dropbox\\\\MPhys Lungs Shared Folder\\\\datadump\\\\fullguys\\\\NSCLC10', 'D:\\\\Dropbox\\\\MPhys Lungs Shared Folder\\\\datadump\\\\fullguys\\\\NSCLC11', 'D:\\\\Dropbox\\\\MPhys Lungs Shared Folder\\\\datadump\\\\fullguys\\\\NSCLC16', 'D:\\\\Dropbox\\\\MPhys Lungs Shared Folder\\\\datadump\\\\fullguys\\\\NSCLC2', 'D:\\\\Dropbox\\\\MPhys Lungs Shared Folder\\\\datadump\\\\fullguys\\\\NSCLC5', 'D:\\\\Dropbox\\\\MPhys Lungs Shared Folder\\\\datadump\\\\fullguys\\\\NSCLC6', 'D:\\\\Dropbox\\\\MPhys Lungs Shared Folder\\\\datadump\\\\fullguys\\\\NSCLC7', 'D:\\\\Dropbox\\\\MPhys Lungs Shared Folder\\\\datadump\\\\fullguys\\\\SABR1', 'D:\\\\Dropbox\\\\MPhys Lungs Shared Folder\\\\datadump\\\\fullguys\\\\SABR10', 'D:\\\\Dropbox\\\\MPhys Lungs Shared Folder\\\\datadump\\\\fullguys\\\\SABR2', 'D:\\\\Dropbox\\\\MPhys Lungs Shared Folder\\\\datadump\\\\fullguys\\\\SABR3', 'D:\\\\Dropbox\\\\MPhys Lungs Shared Folder\\\\datadump\\\\fullguys\\\\SABR4', 'D:\\\\Dropbox\\\\MPhys Lungs Shared Folder\\\\datadump\\\\fullguys\\\\SABR5', 'D:\\\\Dropbox\\\\MPhys Lungs Shared Folder\\\\datadump\\\\fullguys\\\\SABR6', 'D:\\\\Dropbox\\\\MPhys Lungs Shared Folder\\\\datadump\\\\fullguys\\\\SABR7', 'D:\\\\Dropbox\\\\MPhys Lungs Shared Folder\\\\datadump\\\\fullguys\\\\SABR8', 'D:\\\\Dropbox\\\\MPhys Lungs Shared Folder\\\\datadump\\\\fullguys\\\\SABR9']\n"
     ]
    }
   ],
   "source": [
    "import os\n",
    "import numpy as np\n",
    "import matplotlib.pyplot as plt\n",
    "import matplotlib as mpl\n",
    "%matplotlib inline\n",
    "%pylab inline\n",
    "import pandas as pd\n",
    "#from mpl_toolkits.mplot3d import Axes3D\n",
    "import seaborn as sns\n",
    "import imageio\n",
    "imageio.plugins.ffmpeg.download()\n",
    "\n",
    "\n",
    "data_root = 'D:/Dropbox/MPhys Lungs Shared Folder/datadump/fullguys'\n",
    "\n",
    "patient_names = []\n",
    "\n",
    "for folder, subs, files in os.walk(data_root):\n",
    "    for name in subs:\n",
    "        patient_names.append(os.path.abspath(os.path.join(folder, name)))\n",
    "        \n",
    "print(patient_names)"
   ]
  },
  {
   "cell_type": "code",
   "execution_count": 4,
   "metadata": {},
   "outputs": [
    {
     "name": "stdout",
     "output_type": "stream",
     "text": [
      "['D:\\\\Dropbox\\\\MPhys Lungs Shared Folder\\\\datadump\\\\fullguys\\\\NSCLC6\\\\NSCLC6_registered_OARsfullscan2.nii.csv', 'D:\\\\Dropbox\\\\MPhys Lungs Shared Folder\\\\datadump\\\\fullguys\\\\NSCLC6\\\\NSCLC6_registered_OARsfullscan3.nii.csv']\n"
     ]
    }
   ],
   "source": [
    "patient_data = []\n",
    "pvar=0 \n",
    "while pvar<len(patient_names):\n",
    "    templine = []\n",
    "    for folder, subs, files in os.walk(patient_names[pvar]):\n",
    "        for name in files:\n",
    "            templine.append(os.path.abspath(os.path.join(folder, name)))\n",
    "    patient_data.append(templine)\n",
    "    pvar+=1\n",
    "    \n",
    "print(patient_data[6])"
   ]
  },
  {
   "cell_type": "code",
   "execution_count": null,
   "metadata": {},
   "outputs": [],
   "source": [
    "#patient_contains names of all scans\n",
    "flag = 0\n",
    "for patient in patient_data:\n",
    "    for scan_file_name in patient:\n",
    "        data_matrix = []\n",
    "        scan_file = open(scan_file_name)\n",
    "        for line in scan_file:\n",
    "            data_matrix.append(line.split(\",\"))\n",
    "            data_matrix[-1][-1] = data_matrix[-1][-1].replace(\"\\n\",\"\")\n",
    "    \n",
    "        pxl_data = [row[3] for row in data_matrix]\n",
    "        sns.set(color_codes=True)\n",
    "        ax = sns.distplot(pxl_data)\n",
    "        sns.despine()\n",
    "        #pname = patient_names[pvar].replace(data_root.replace('/','\\\\'), '')\n",
    "        #ax.set_title('Boxplot for ' + pname.replace('\\\\',''),fontsize=20,color=\"r\",alpha=0.5)\n",
    "        #ax.set(xlabel='Scan Number', ylabel='Pixel Values')\n",
    "        #filename = data_root + '\\\\' + pname + 'boxes.png'\n",
    "        #savefig(filename)\n",
    "        plt.show()\n",
    "        plt.close()\n",
    "    \n",
    "    '''bigmatrix = []\n",
    "    i=0\n",
    "    while i < len(patient_data[pvar]):\n",
    "        with open(patient_data[pvar][i],\"r\") as file:\n",
    "            datamatrix = []\n",
    "            for l in file:\n",
    "                templine = []\n",
    "                l.replace(\"\\n\",\"\")\n",
    "                bit = l.split(\",\")\n",
    "\n",
    "                datamatrix.append([int(bit[0]),int(bit[1]),\n",
    "                                 int(bit[2]),int(bit[3].replace('\\n',''))])\n",
    "\n",
    "        bigmatrix.append(datamatrix) # each element of bigmatrix contains an entire scan\n",
    "        i+=1\n",
    "\n",
    "    bigmatrix = np.array(bigmatrix)\n",
    "    print(len(bigmatrix))\n",
    "    xvalmatrix = []\n",
    "    yvalmatrix = []\n",
    "    zvalmatrix = []\n",
    "    pixvalmatrix= []\n",
    "    i=0\n",
    "    j=0\n",
    "    while i<len(patient_data[pvar]):\n",
    "        xvals, yvals, zvals, pixvals = [],[],[],[]\n",
    "        while j < len(bigmatrix[0]):\n",
    "            xvals.append(bigmatrix[i][j][0])\n",
    "            yvals.append(bigmatrix[i][j][1])\n",
    "            zvals.append(bigmatrix[i][j][2])\n",
    "            pixvals.append(bigmatrix[i][j][3])\n",
    "            j+=1\n",
    "        xvalmatrix.append(xvals)\n",
    "        yvalmatrix.append(yvals)\n",
    "        zvalmatrix.append(zvals)\n",
    "        pixvalmatrix.append(pixvals)\n",
    "        i+=1\n",
    "\n",
    "    scanlist = []\n",
    "    xlist = []\n",
    "    ylist = []\n",
    "    zlist =[]\n",
    "    pixlist = []\n",
    "\n",
    "    i=0\n",
    "    while i<len(bigmatrix):\n",
    "\n",
    "        for element in bigmatrix[i]:\n",
    "            scanlist.append(i) # contains index of scan number\n",
    "            xlist.append(element[0])\n",
    "            ylist.append(element[1])\n",
    "            zlist.append(element[2])\n",
    "            pixlist.append(element[3])\n",
    "\n",
    "        i+=1\n",
    "\n",
    "        adict = {\n",
    "            'Scan':scanlist,\n",
    "            'x' : xlist,\n",
    "            'y' : ylist,\n",
    "            'z' : zlist,\n",
    "            'pix' : pixlist\n",
    "        }\n",
    "\n",
    "    df = pd.DataFrame(adict)\n",
    "\n",
    "    sns.set(color_codes=True)\n",
    "    ax = sns.distplot(df[\"pix\"])\n",
    "    sns.despine()\n",
    "    pname = patient_names[pvar].replace(data_root.replace('/','\\\\'), '')\n",
    "    ax.set_title('Boxplot for ' + pname.replace('\\\\',''),fontsize=20,color=\"r\",alpha=0.5)\n",
    "    ax.set(xlabel='Scan Number', ylabel='Pixel Values')\n",
    "    filename = data_root + '\\\\' + pname + 'boxes.png'\n",
    "    savefig(filename)\n",
    "    plt.show()\n",
    "    plt.close()\n",
    "    \n",
    "    pvar+=1'''"
   ]
  },
  {
   "cell_type": "code",
   "execution_count": null,
   "metadata": {
    "collapsed": true
   },
   "outputs": [],
   "source": [
    "sns.set(color_codes=True)\n",
    "ax = sns.distplot(pixvals, kde=False, rug=True)\n",
    "sns.despine()\n",
    "patientname = file_paths[0].replace(data_root.replace('/','\\\\'),'').replace('_registered_OARsmask.nii.csv','')\n",
    "print(patientname)\n",
    "ax.set_title('Histogram of Pixel Values: Patient ' + patientname.replace('\\\\',''),fontsize=20,color=\"r\",alpha=0.5)\n",
    "ax.set(xlabel='Pixel Values', ylabel='Frequency')\n",
    "plt.show()\n",
    "histfilename = data_root + patientname + 'histogram.png'\n",
    "savefig(histfilename)"
   ]
  }
 ],
 "metadata": {
  "kernelspec": {
   "display_name": "Python 3",
   "language": "python",
   "name": "python3"
  },
  "language_info": {
   "codemirror_mode": {
    "name": "ipython",
    "version": 3
   },
   "file_extension": ".py",
   "mimetype": "text/x-python",
   "name": "python",
   "nbconvert_exporter": "python",
   "pygments_lexer": "ipython3",
   "version": "3.5.3"
  }
 },
 "nbformat": 4,
 "nbformat_minor": 2
}
