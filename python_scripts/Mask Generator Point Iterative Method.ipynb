{
 "cells": [
  {
   "cell_type": "markdown",
   "metadata": {},
   "source": [
    "Import modules to deal with data and load up test file."
   ]
  },
  {
   "cell_type": "code",
   "execution_count": 1,
   "metadata": {
    "collapsed": true
   },
   "outputs": [],
   "source": [
    "import numpy as np\n",
    "import os\n",
    "import nibabel as nib\n",
    "import matplotlib.pyplot as plt\n",
    "\n",
    "datafile = \"F:/fullGTV\"\n",
    "filenames = os.listdir(datafile)\n",
    "file = os.path.join(datafile, filenames[0])\n",
    "img = nib.load(file)\n",
    "img_data = img.get_data() # puts data into format plt can use"
   ]
  },
  {
   "cell_type": "markdown",
   "metadata": {},
   "source": [
    "Show slices of raw data as an image"
   ]
  },
  {
   "cell_type": "code",
   "execution_count": 2,
   "metadata": {},
   "outputs": [
    {
     "data": {
      "image/png": "[encoded data removed]",
      "text/plain": [
       "<matplotlib.figure.Figure at 0x2e9d9acfcc0>"
      ]
     },
     "metadata": {},
     "output_type": "display_data"
    }
   ],
   "source": [
    "# function to show slices as an object\n",
    "def show_slice(slice_obj):\n",
    "    # Function to display row of image slices\n",
    "    fig, axes = plt.subplots(1)\n",
    "    axes.imshow(slice_obj, cmap=\"gray\", origin=\"lower\")\n",
    "    \n",
    "scan_slice = img_data[:,:,80]\n",
    "show_slice(img_data[:,:,80]) # use 80 as default slide number for testing\n",
    "plt.show()"
   ]
  },
  {
   "cell_type": "markdown",
   "metadata": {},
   "source": [
    "Get pixels around the tumour in scan slice"
   ]
  },
  {
   "cell_type": "code",
   "execution_count": 3,
   "metadata": {},
   "outputs": [
    {
     "name": "stdout",
     "output_type": "stream",
     "text": [
      "True\n"
     ]
    },
    {
     "data": {
      "image/png": "[encoded data removed]",
      "text/plain": [
       "<matplotlib.figure.Figure at 0x2e9d2c3f470>"
      ]
     },
     "metadata": {},
     "output_type": "display_data"
    }
   ],
   "source": [
    "from skimage import feature\n",
    "\n",
    "edges = feature.canny(scan_slice,sigma=2)\n",
    "show_slice(edges) # show edges of image\n",
    "print(edges.max())\n",
    "plt.show()"
   ]
  },
  {
   "cell_type": "code",
   "execution_count": 8,
   "metadata": {},
   "outputs": [
    {
     "data": {
      "image/png": "[encoded data removed]",
      "text/plain": [
       "<matplotlib.figure.Figure at 0x2e9e7686630>"
      ]
     },
     "metadata": {},
     "output_type": "display_data"
    }
   ],
   "source": [
    "import skimage.filters\n",
    "import skimage.morphology\n",
    "mask = skimage.filters.rank.maximum(edges,skimage.morphology.disk(2))\n",
    "show_slice(edges_new[200:250,150:220])\n",
    "plt.show()"
   ]
  },
  {
   "cell_type": "code",
   "execution_count": null,
   "metadata": {
    "collapsed": true
   },
   "outputs": [],
   "source": []
  }
 ],
 "metadata": {
  "kernelspec": {
   "display_name": "Python 3",
   "language": "python",
   "name": "python3"
  },
  "language_info": {
   "codemirror_mode": {
    "name": "ipython",
    "version": 3
   },
   "file_extension": ".py",
   "mimetype": "text/x-python",
   "name": "python",
   "nbconvert_exporter": "python",
   "pygments_lexer": "ipython3",
   "version": "3.5.3"
  }
 },
 "nbformat": 4,
 "nbformat_minor": 2
}
