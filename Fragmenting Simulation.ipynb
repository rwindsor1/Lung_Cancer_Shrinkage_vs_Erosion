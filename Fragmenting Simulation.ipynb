{
 "cells": [
  {
   "cell_type": "code",
   "execution_count": 3,
   "metadata": {},
   "outputs": [],
   "source": [
    "# functions to be imported\n",
    "import sys\n",
    "sys.path.insert(0, 'C:/Users/Rhydian/Documents/GitHub/Lung_Cancer_Shrinkage_vs_Erosion/python_scripts/')\n",
    "import os\n",
    "from mphys_project_functions import create_mask,show_slice,get_healthy_tissue_vals\n",
    "import nibabel as nib\n",
    "import os\n",
    "import matplotlib.pyplot as plt\n",
    "%matplotlib inline\n",
    "import numpy as np\n",
    "from skimage import feature\n",
    "from skimage.morphology import square\n",
    "from skimage.filters import rank\n",
    "import math\n",
    "import scipy"
   ]
  },
  {
   "cell_type": "code",
   "execution_count": 4,
   "metadata": {},
   "outputs": [
    {
     "ename": "NameError",
     "evalue": "name 'gradients' is not defined",
     "output_type": "error",
     "traceback": [
      "\u001b[1;31m---------------------------------------------------------------------------\u001b[0m",
      "\u001b[1;31mNameError\u001b[0m                                 Traceback (most recent call last)",
      "\u001b[1;32m<ipython-input-4-9690e2602177>\u001b[0m in \u001b[0;36m<module>\u001b[1;34m()\u001b[0m\n\u001b[0;32m      1\u001b[0m \u001b[1;32mfrom\u001b[0m \u001b[0mmphys_project_functions\u001b[0m \u001b[1;32mimport\u001b[0m \u001b[0mfragmenting_sim\u001b[0m\u001b[1;33m\u001b[0m\u001b[0m\n\u001b[0;32m      2\u001b[0m \u001b[0mimg\u001b[0m \u001b[1;33m=\u001b[0m \u001b[0mnib\u001b[0m\u001b[1;33m.\u001b[0m\u001b[0mload\u001b[0m\u001b[1;33m(\u001b[0m\u001b[1;34m\"D:/fullTumourNiftys/NSCLC1_/NSCLC1__registered_OARsfullscan2.nii\"\u001b[0m\u001b[1;33m)\u001b[0m\u001b[1;33m.\u001b[0m\u001b[0mget_data\u001b[0m\u001b[1;33m(\u001b[0m\u001b[1;33m)\u001b[0m\u001b[1;33m\u001b[0m\u001b[0m\n\u001b[1;32m----> 3\u001b[1;33m \u001b[0mresult\u001b[0m \u001b[1;33m=\u001b[0m \u001b[0mfragmenting_sim\u001b[0m\u001b[1;33m(\u001b[0m\u001b[0mimg\u001b[0m\u001b[1;33m)\u001b[0m\u001b[1;33m\u001b[0m\u001b[0m\n\u001b[0m\u001b[0;32m      4\u001b[0m \u001b[0mshow_slice\u001b[0m\u001b[1;33m(\u001b[0m\u001b[0mimg\u001b[0m\u001b[1;33m[\u001b[0m\u001b[1;36m100\u001b[0m\u001b[1;33m:\u001b[0m\u001b[1;36m200\u001b[0m\u001b[1;33m,\u001b[0m\u001b[1;36m150\u001b[0m\u001b[1;33m:\u001b[0m\u001b[1;36m300\u001b[0m\u001b[1;33m,\u001b[0m\u001b[1;36m60\u001b[0m\u001b[1;33m]\u001b[0m\u001b[1;33m)\u001b[0m\u001b[1;33m\u001b[0m\u001b[0m\n\u001b[0;32m      5\u001b[0m \u001b[0mshow_slice\u001b[0m\u001b[1;33m(\u001b[0m\u001b[0mresult\u001b[0m\u001b[1;33m[\u001b[0m\u001b[1;36m100\u001b[0m\u001b[1;33m:\u001b[0m\u001b[1;36m200\u001b[0m\u001b[1;33m,\u001b[0m\u001b[1;36m150\u001b[0m\u001b[1;33m:\u001b[0m\u001b[1;36m300\u001b[0m\u001b[1;33m,\u001b[0m\u001b[1;36m60\u001b[0m\u001b[1;33m]\u001b[0m\u001b[1;33m)\u001b[0m\u001b[1;33m\u001b[0m\u001b[0m\n",
      "\u001b[1;32mC:/Users/Rhydian/Documents/GitHub/Lung_Cancer_Shrinkage_vs_Erosion/python_scripts\\mphys_project_functions.py\u001b[0m in \u001b[0;36mfragmenting_sim\u001b[1;34m(inArr, threshold, iterations)\u001b[0m\n\u001b[0;32m     85\u001b[0m                 \u001b[0mnormalised_gradients\u001b[0m \u001b[1;33m=\u001b[0m \u001b[0mgradient_of_tumour\u001b[0m\u001b[1;33m[\u001b[0m\u001b[0mfilled_mask\u001b[0m\u001b[1;33m>\u001b[0m\u001b[1;36m0\u001b[0m\u001b[1;33m]\u001b[0m\u001b[1;33m/\u001b[0m\u001b[0mgradient_of_tumour\u001b[0m\u001b[1;33m[\u001b[0m\u001b[0mfilled_mask\u001b[0m\u001b[1;33m>\u001b[0m\u001b[1;36m0\u001b[0m\u001b[1;33m]\u001b[0m\u001b[1;33m.\u001b[0m\u001b[0mmax\u001b[0m\u001b[1;33m(\u001b[0m\u001b[1;33m)\u001b[0m\u001b[1;33m\u001b[0m\u001b[0m\n\u001b[0;32m     86\u001b[0m                 \u001b[0mrandom_samples\u001b[0m \u001b[1;33m=\u001b[0m \u001b[0mnp\u001b[0m\u001b[1;33m.\u001b[0m\u001b[0mrandom\u001b[0m\u001b[1;33m.\u001b[0m\u001b[0mtriangular\u001b[0m\u001b[1;33m(\u001b[0m\u001b[1;36m0\u001b[0m\u001b[1;33m,\u001b[0m \u001b[1;36m0.8\u001b[0m\u001b[1;33m,\u001b[0m \u001b[1;36m1\u001b[0m\u001b[1;33m,\u001b[0m \u001b[0msize\u001b[0m\u001b[1;33m=\u001b[0m\u001b[0mnormalised_gradients\u001b[0m\u001b[1;33m.\u001b[0m\u001b[0mshape\u001b[0m\u001b[1;33m)\u001b[0m\u001b[1;33m\u001b[0m\u001b[0m\n\u001b[1;32m---> 87\u001b[1;33m                 \u001b[0mremoved_pixels\u001b[0m \u001b[1;33m=\u001b[0m \u001b[0mnp\u001b[0m\u001b[1;33m.\u001b[0m\u001b[0mones\u001b[0m\u001b[1;33m(\u001b[0m\u001b[0mnormalised_gradients\u001b[0m\u001b[1;33m.\u001b[0m\u001b[0mshape\u001b[0m\u001b[1;33m)\u001b[0m\u001b[1;33m\u001b[0m\u001b[0m\n\u001b[0m\u001b[0;32m     88\u001b[0m                 \u001b[0mremoved_pixels\u001b[0m\u001b[1;33m[\u001b[0m\u001b[0mnormalised_gradients\u001b[0m \u001b[1;33m>\u001b[0m \u001b[0mrandom_samples\u001b[0m\u001b[1;33m]\u001b[0m \u001b[1;33m=\u001b[0m \u001b[1;36m0\u001b[0m\u001b[1;33m\u001b[0m\u001b[0m\n\u001b[0;32m     89\u001b[0m                 \u001b[0mpixel_remover\u001b[0m \u001b[1;33m=\u001b[0m \u001b[0mnp\u001b[0m\u001b[1;33m.\u001b[0m\u001b[0mones\u001b[0m\u001b[1;33m(\u001b[0m\u001b[0mgtv\u001b[0m\u001b[1;33m.\u001b[0m\u001b[0mshape\u001b[0m\u001b[1;33m)\u001b[0m\u001b[1;33m\u001b[0m\u001b[0m\n",
      "\u001b[1;31mNameError\u001b[0m: name 'gradients' is not defined"
     ]
    }
   ],
   "source": [
    "from mphys_project_functions import fragmenting_sim\n",
    "img = nib.load(\"D:/fullTumourNiftys/NSCLC1_/NSCLC1__registered_OARsfullscan2.nii\").get_data()\n",
    "result = fragmenting_sim(img)\n",
    "show_slice(img[100:200,150:300,60])\n",
    "show_slice(result[100:200,150:300,60])"
   ]
  },
  {
   "cell_type": "markdown",
   "metadata": {},
   "source": [
    "## Import Niftis and Generate Mask"
   ]
  },
  {
   "cell_type": "code",
   "execution_count": null,
   "metadata": {},
   "outputs": [],
   "source": [
    "# import nifti containing delineated region of tumour\n",
    "img = nib.load(\"D:/fullTumourNiftys/NSCLC1_/NSCLC1__registered_OARsfullscan2.nii\").get_data()\n",
    "# ther\n",
    "mask = create_mask(img,sigma = 0.5, small_obj_size = 20, radius_of_mask=4 )\n",
    "show_slice(mask[100:200,150:300,60])\n",
    "show_slice(img[100:200,150:300,60])\n",
    "noise = np.random.normal(loc=400, scale=50, size=img.shape)\n",
    "show_slice(noise[100:200,150:300,60])\n",
    "img[img == 0] = noise[img== 0]\n",
    "show_slice(img[100:200,150:300,60])"
   ]
  },
  {
   "cell_type": "markdown",
   "metadata": {},
   "source": [
    "## Fill in holes in Mask. Save this as filled_mask"
   ]
  },
  {
   "cell_type": "code",
   "execution_count": null,
   "metadata": {},
   "outputs": [],
   "source": [
    "filled_mask = np.zeros(np.shape(mask))\n",
    "for i in range(filled_mask.shape[2]):\n",
    "    filled_mask[:,:,i] = scipy.ndimage.binary_fill_holes(mask[:,:,i])\n",
    "    \n",
    "show_slice(filled_mask[100:200,150:300,60])\n"
   ]
  },
  {
   "cell_type": "markdown",
   "metadata": {},
   "source": [
    "## Get Gradient of scan"
   ]
  },
  {
   "cell_type": "code",
   "execution_count": null,
   "metadata": {},
   "outputs": [],
   "source": [
    "def get_3D_grad_matrix(matrix):\n",
    "    grad_list = np.gradient(img)\n",
    "    grad = np.sqrt(np.multiply(grad_list[0], grad_list[0]) + np.multiply(grad_list[1], grad_list[1]) + np.multiply(grad_list[2], grad_list[2]))\n",
    "    return grad\n",
    "\n",
    "gradient_of_tumour = get_3D_grad_matrix(img)\n",
    "\n",
    "show_slice(gradient_of_tumour[100:200,150:300,60])\n",
    "show_slice(filled_mask[100:200,150:300,60])\n",
    "ROI = np.multiply(gradient_of_tumour, filled_mask)\n",
    "show_slice(ROI[100:200,150:300,60])\n",
    "\n"
   ]
  },
  {
   "cell_type": "markdown",
   "metadata": {},
   "source": [
    "## Choose probabilistically which pixels to remove from the mask"
   ]
  },
  {
   "cell_type": "code",
   "execution_count": null,
   "metadata": {},
   "outputs": [],
   "source": [
    "gradients = gradient_of_tumour[filled_mask>0]\n",
    "normalised_gradients = gradients/gradients.max()\n",
    "random_samples = np.random.triangular(0, 0.8, 1, size=gradients.shape)\n",
    "print(random_samples)\n",
    "removed_pixels = np.ones(gradients.shape)\n",
    "removed_pixels[normalised_gradients > random_samples] = 0\n",
    "\n",
    "pixel_remover = np.ones(img.shape)\n",
    "pixel_remover[filled_mask > 0] = removed_pixels\n",
    "result = np.multiply(pixel_remover,img)\n",
    "result[result == 0] = np.random.normal(loc=400, scale=50, size=result[result == 0].shape)\n",
    "show_slice(img[100:200,150:300,60])\n",
    "show_slice(gradient_of_tumour[100:200,150:300,60])\n",
    "show_slice(result[100:200,150:300,60])"
   ]
  }
 ],
 "metadata": {
  "kernelspec": {
   "display_name": "Python 3",
   "language": "python",
   "name": "python3"
  },
  "language_info": {
   "codemirror_mode": {
    "name": "ipython",
    "version": 3
   },
   "file_extension": ".py",
   "mimetype": "text/x-python",
   "name": "python",
   "nbconvert_exporter": "python",
   "pygments_lexer": "ipython3",
   "version": "3.5.3"
  }
 },
 "nbformat": 4,
 "nbformat_minor": 2
}
